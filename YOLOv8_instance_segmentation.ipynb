{
  "nbformat": 4,
  "nbformat_minor": 0,
  "metadata": {
    "colab": {
      "provenance": [],
      "gpuType": "T4"
    },
    "kernelspec": {
      "name": "python3",
      "display_name": "Python 3"
    },
    "language_info": {
      "name": "python"
    },
    "accelerator": "GPU"
  },
  "cells": [
    {
      "cell_type": "markdown",
      "source": [
        "Here I tried training the dataset given to me on YOLO v8 instance segmentation model but since there is a certain manner of dataset storing , i had to convert my masked labels to bounding box coordinates and save them in .txt extension for training.\n"
      ],
      "metadata": {
        "id": "HR-uPXxtz7Q4"
      }
    },
    {
      "cell_type": "code",
      "source": [
        "import cv2\n",
        "import numpy as np\n",
        "import os\n",
        "\n",
        "def mask_to_bbox(mask_path):\n",
        "    # Load the mask image in grayscale\n",
        "    mask = cv2.imread(mask_path, cv2.IMREAD_GRAYSCALE)\n",
        "    if mask is None:\n",
        "        raise ValueError(\"Mask image could not be loaded.\")\n",
        "\n",
        "    # Find contours from the binary image\n",
        "    contours, _ = cv2.findContours(mask, cv2.RETR_EXTERNAL, cv2.CHAIN_APPROX_SIMPLE)\n",
        "    boxes = []\n",
        "\n",
        "    for contour in contours:\n",
        "        # Calculate the bounding rectangle for each contour\n",
        "        x, y, w, h = cv2.boundingRect(contour)\n",
        "        boxes.append((x, y, w, h))\n",
        "\n",
        "    return boxes\n",
        "\n",
        "def convert_to_yolov8_format(bbox, image_shape):\n",
        "    img_height, img_width = image_shape\n",
        "    yolov8_data = []\n",
        "\n",
        "    for (x, y, w, h) in bbox:\n",
        "        x_center = ((x + w / 2) / img_width)\n",
        "        y_center = ((y + h / 2) / img_height)\n",
        "        width = (w / img_width)\n",
        "        height = (h / img_height)\n",
        "        # Assuming class_id is 0 for all, change it as needed\n",
        "        yolov8_data.append(f\"0 {x_center} {y_center} {width} {height}\")\n",
        "\n",
        "    return yolov8_data\n",
        "\n",
        "def process_masks(input_dir, output_dir, image_shape):\n",
        "    # Create output directory if it doesn't exist\n",
        "    os.makedirs(output_dir, exist_ok=True)\n",
        "\n",
        "    for filename in os.listdir(input_dir):\n",
        "        if filename.endswith('.png'):  # Assuming mask images are PNG\n",
        "            mask_path = os.path.join(input_dir, filename)\n",
        "            bbox = mask_to_bbox(mask_path)\n",
        "            yolov8_format = convert_to_yolov8_format(bbox, image_shape)\n",
        "\n",
        "            # Create a .txt file for each mask\n",
        "            base_filename = os.path.splitext(filename)[0]\n",
        "            output_filepath = os.path.join(output_dir, f\"{base_filename}.txt\")\n",
        "            with open(output_filepath, 'w') as file:\n",
        "                for line in yolov8_format:\n",
        "                    file.write(line + \"\\n\")\n",
        "\n",
        "# Example usage\n",
        "input_directory = '/kaggle/input/vineyard32/masks/masks'  # Specify the path to your mask images\n",
        "output_directory = '/kaggle/working/box_mask'  # Specify where to save the output .txt files\n",
        "image_width, image_height = 1920, 960  # Set the size of your images\n",
        "\n",
        "process_masks(input_directory, output_directory, (image_height, image_width))\n"
      ],
      "metadata": {
        "id": "oo1IJQX2z1yZ"
      },
      "execution_count": null,
      "outputs": []
    },
    {
      "cell_type": "code",
      "source": [
        "import zipfile\n",
        "import os\n"
      ],
      "metadata": {
        "id": "MYgPKBErz4ff"
      },
      "execution_count": null,
      "outputs": []
    },
    {
      "cell_type": "code",
      "source": [
        "def zip_folder(folder_path, output_path):\n",
        "    # Create a ZipFile object in write mode\n",
        "    with zipfile.ZipFile(output_path, 'w', zipfile.ZIP_DEFLATED) as zipf:\n",
        "        # Walk through the directory\n",
        "        for root, dirs, files in os.walk(folder_path):\n",
        "            for file in files:\n",
        "                # Create a complete filepath of file in directory\n",
        "                file_path = os.path.join(root, file)\n",
        "                # Add file to zip\n",
        "                zipf.write(file_path, os.path.relpath(file_path, folder_path))\n",
        "\n",
        "# Example usage\n",
        "folder_to_zip = '/kaggle/working/box_mask'  # Folder containing the .txt files\n",
        "zip_output_path = '/kaggle/working/mask.zip'  # Path where the zip file will be saved\n",
        "\n",
        "zip_folder(folder_to_zip, zip_output_path)\n"
      ],
      "metadata": {
        "id": "voie78Hfz5C7"
      },
      "execution_count": null,
      "outputs": []
    },
    {
      "cell_type": "code",
      "source": [],
      "metadata": {
        "id": "j6GcEfnZz2km"
      },
      "execution_count": null,
      "outputs": []
    },
    {
      "cell_type": "code",
      "execution_count": null,
      "metadata": {
        "colab": {
          "base_uri": "https://localhost:8080/"
        },
        "id": "JQw74lL997Kn",
        "outputId": "70281215-3350-4a75-8e72-ab0155738564"
      },
      "outputs": [
        {
          "output_type": "stream",
          "name": "stdout",
          "text": [
            "Collecting ultralytics==8.0.28\n",
            "  Downloading ultralytics-8.0.28-py3-none-any.whl (272 kB)\n",
            "\u001b[?25l     \u001b[90m━━━━━━━━━━━━━━━━━━━━━━━━━━━━━━━━━━━━━━━━\u001b[0m \u001b[32m0.0/272.6 kB\u001b[0m \u001b[31m?\u001b[0m eta \u001b[36m-:--:--\u001b[0m\r\u001b[2K     \u001b[91m━━━━━━━━━━━━━━━━\u001b[0m\u001b[91m╸\u001b[0m\u001b[90m━━━━━━━━━━━━━━━━━━━━━━━\u001b[0m \u001b[32m112.6/272.6 kB\u001b[0m \u001b[31m3.4 MB/s\u001b[0m eta \u001b[36m0:00:01\u001b[0m\r\u001b[2K     \u001b[90m━━━━━━━━━━━━━━━━━━━━━━━━━━━━━━━━━━━━━━━━\u001b[0m \u001b[32m272.6/272.6 kB\u001b[0m \u001b[31m5.6 MB/s\u001b[0m eta \u001b[36m0:00:00\u001b[0m\n",
            "\u001b[?25hRequirement already satisfied: matplotlib>=3.2.2 in /usr/local/lib/python3.10/dist-packages (from ultralytics==8.0.28) (3.7.1)\n",
            "Requirement already satisfied: numpy>=1.18.5 in /usr/local/lib/python3.10/dist-packages (from ultralytics==8.0.28) (1.25.2)\n",
            "Requirement already satisfied: opencv-python>=4.6.0 in /usr/local/lib/python3.10/dist-packages (from ultralytics==8.0.28) (4.8.0.76)\n",
            "Requirement already satisfied: Pillow>=7.1.2 in /usr/local/lib/python3.10/dist-packages (from ultralytics==8.0.28) (9.4.0)\n",
            "Requirement already satisfied: PyYAML>=5.3.1 in /usr/local/lib/python3.10/dist-packages (from ultralytics==8.0.28) (6.0.1)\n",
            "Requirement already satisfied: requests>=2.23.0 in /usr/local/lib/python3.10/dist-packages (from ultralytics==8.0.28) (2.31.0)\n",
            "Requirement already satisfied: scipy>=1.4.1 in /usr/local/lib/python3.10/dist-packages (from ultralytics==8.0.28) (1.11.4)\n",
            "Requirement already satisfied: torch>=1.7.0 in /usr/local/lib/python3.10/dist-packages (from ultralytics==8.0.28) (2.2.1+cu121)\n",
            "Requirement already satisfied: torchvision>=0.8.1 in /usr/local/lib/python3.10/dist-packages (from ultralytics==8.0.28) (0.17.1+cu121)\n",
            "Requirement already satisfied: tqdm>=4.64.0 in /usr/local/lib/python3.10/dist-packages (from ultralytics==8.0.28) (4.66.2)\n",
            "Requirement already satisfied: tensorboard>=2.4.1 in /usr/local/lib/python3.10/dist-packages (from ultralytics==8.0.28) (2.15.2)\n",
            "Requirement already satisfied: pandas>=1.1.4 in /usr/local/lib/python3.10/dist-packages (from ultralytics==8.0.28) (1.5.3)\n",
            "Requirement already satisfied: seaborn>=0.11.0 in /usr/local/lib/python3.10/dist-packages (from ultralytics==8.0.28) (0.13.1)\n",
            "Requirement already satisfied: ipython in /usr/local/lib/python3.10/dist-packages (from ultralytics==8.0.28) (7.34.0)\n",
            "Requirement already satisfied: psutil in /usr/local/lib/python3.10/dist-packages (from ultralytics==8.0.28) (5.9.5)\n",
            "Collecting thop>=0.1.1 (from ultralytics==8.0.28)\n",
            "  Downloading thop-0.1.1.post2209072238-py3-none-any.whl (15 kB)\n",
            "Collecting sentry-sdk (from ultralytics==8.0.28)\n",
            "  Downloading sentry_sdk-2.0.1-py2.py3-none-any.whl (266 kB)\n",
            "\u001b[2K     \u001b[90m━━━━━━━━━━━━━━━━━━━━━━━━━━━━━━━━━━━━━━━━\u001b[0m \u001b[32m266.8/266.8 kB\u001b[0m \u001b[31m34.4 MB/s\u001b[0m eta \u001b[36m0:00:00\u001b[0m\n",
            "\u001b[?25hRequirement already satisfied: contourpy>=1.0.1 in /usr/local/lib/python3.10/dist-packages (from matplotlib>=3.2.2->ultralytics==8.0.28) (1.2.0)\n",
            "Requirement already satisfied: cycler>=0.10 in /usr/local/lib/python3.10/dist-packages (from matplotlib>=3.2.2->ultralytics==8.0.28) (0.12.1)\n",
            "Requirement already satisfied: fonttools>=4.22.0 in /usr/local/lib/python3.10/dist-packages (from matplotlib>=3.2.2->ultralytics==8.0.28) (4.50.0)\n",
            "Requirement already satisfied: kiwisolver>=1.0.1 in /usr/local/lib/python3.10/dist-packages (from matplotlib>=3.2.2->ultralytics==8.0.28) (1.4.5)\n",
            "Requirement already satisfied: packaging>=20.0 in /usr/local/lib/python3.10/dist-packages (from matplotlib>=3.2.2->ultralytics==8.0.28) (24.0)\n",
            "Requirement already satisfied: pyparsing>=2.3.1 in /usr/local/lib/python3.10/dist-packages (from matplotlib>=3.2.2->ultralytics==8.0.28) (3.1.2)\n",
            "Requirement already satisfied: python-dateutil>=2.7 in /usr/local/lib/python3.10/dist-packages (from matplotlib>=3.2.2->ultralytics==8.0.28) (2.8.2)\n",
            "Requirement already satisfied: pytz>=2020.1 in /usr/local/lib/python3.10/dist-packages (from pandas>=1.1.4->ultralytics==8.0.28) (2023.4)\n",
            "Requirement already satisfied: charset-normalizer<4,>=2 in /usr/local/lib/python3.10/dist-packages (from requests>=2.23.0->ultralytics==8.0.28) (3.3.2)\n",
            "Requirement already satisfied: idna<4,>=2.5 in /usr/local/lib/python3.10/dist-packages (from requests>=2.23.0->ultralytics==8.0.28) (3.6)\n",
            "Requirement already satisfied: urllib3<3,>=1.21.1 in /usr/local/lib/python3.10/dist-packages (from requests>=2.23.0->ultralytics==8.0.28) (2.0.7)\n",
            "Requirement already satisfied: certifi>=2017.4.17 in /usr/local/lib/python3.10/dist-packages (from requests>=2.23.0->ultralytics==8.0.28) (2024.2.2)\n",
            "Requirement already satisfied: absl-py>=0.4 in /usr/local/lib/python3.10/dist-packages (from tensorboard>=2.4.1->ultralytics==8.0.28) (1.4.0)\n",
            "Requirement already satisfied: grpcio>=1.48.2 in /usr/local/lib/python3.10/dist-packages (from tensorboard>=2.4.1->ultralytics==8.0.28) (1.62.1)\n",
            "Requirement already satisfied: google-auth<3,>=1.6.3 in /usr/local/lib/python3.10/dist-packages (from tensorboard>=2.4.1->ultralytics==8.0.28) (2.27.0)\n",
            "Requirement already satisfied: google-auth-oauthlib<2,>=0.5 in /usr/local/lib/python3.10/dist-packages (from tensorboard>=2.4.1->ultralytics==8.0.28) (1.2.0)\n",
            "Requirement already satisfied: markdown>=2.6.8 in /usr/local/lib/python3.10/dist-packages (from tensorboard>=2.4.1->ultralytics==8.0.28) (3.6)\n",
            "Requirement already satisfied: protobuf!=4.24.0,>=3.19.6 in /usr/local/lib/python3.10/dist-packages (from tensorboard>=2.4.1->ultralytics==8.0.28) (3.20.3)\n",
            "Requirement already satisfied: setuptools>=41.0.0 in /usr/local/lib/python3.10/dist-packages (from tensorboard>=2.4.1->ultralytics==8.0.28) (67.7.2)\n",
            "Requirement already satisfied: six>1.9 in /usr/local/lib/python3.10/dist-packages (from tensorboard>=2.4.1->ultralytics==8.0.28) (1.16.0)\n",
            "Requirement already satisfied: tensorboard-data-server<0.8.0,>=0.7.0 in /usr/local/lib/python3.10/dist-packages (from tensorboard>=2.4.1->ultralytics==8.0.28) (0.7.2)\n",
            "Requirement already satisfied: werkzeug>=1.0.1 in /usr/local/lib/python3.10/dist-packages (from tensorboard>=2.4.1->ultralytics==8.0.28) (3.0.1)\n",
            "Requirement already satisfied: filelock in /usr/local/lib/python3.10/dist-packages (from torch>=1.7.0->ultralytics==8.0.28) (3.13.3)\n",
            "Requirement already satisfied: typing-extensions>=4.8.0 in /usr/local/lib/python3.10/dist-packages (from torch>=1.7.0->ultralytics==8.0.28) (4.10.0)\n",
            "Requirement already satisfied: sympy in /usr/local/lib/python3.10/dist-packages (from torch>=1.7.0->ultralytics==8.0.28) (1.12)\n",
            "Requirement already satisfied: networkx in /usr/local/lib/python3.10/dist-packages (from torch>=1.7.0->ultralytics==8.0.28) (3.2.1)\n",
            "Requirement already satisfied: jinja2 in /usr/local/lib/python3.10/dist-packages (from torch>=1.7.0->ultralytics==8.0.28) (3.1.3)\n",
            "Requirement already satisfied: fsspec in /usr/local/lib/python3.10/dist-packages (from torch>=1.7.0->ultralytics==8.0.28) (2023.6.0)\n",
            "Collecting nvidia-cuda-nvrtc-cu12==12.1.105 (from torch>=1.7.0->ultralytics==8.0.28)\n",
            "  Downloading nvidia_cuda_nvrtc_cu12-12.1.105-py3-none-manylinux1_x86_64.whl (23.7 MB)\n",
            "\u001b[2K     \u001b[90m━━━━━━━━━━━━━━━━━━━━━━━━━━━━━━━━━━━━━━━━\u001b[0m \u001b[32m23.7/23.7 MB\u001b[0m \u001b[31m66.0 MB/s\u001b[0m eta \u001b[36m0:00:00\u001b[0m\n",
            "\u001b[?25hCollecting nvidia-cuda-runtime-cu12==12.1.105 (from torch>=1.7.0->ultralytics==8.0.28)\n",
            "  Downloading nvidia_cuda_runtime_cu12-12.1.105-py3-none-manylinux1_x86_64.whl (823 kB)\n",
            "\u001b[2K     \u001b[90m━━━━━━━━━━━━━━━━━━━━━━━━━━━━━━━━━━━━━━━━\u001b[0m \u001b[32m823.6/823.6 kB\u001b[0m \u001b[31m50.3 MB/s\u001b[0m eta \u001b[36m0:00:00\u001b[0m\n",
            "\u001b[?25hCollecting nvidia-cuda-cupti-cu12==12.1.105 (from torch>=1.7.0->ultralytics==8.0.28)\n",
            "  Downloading nvidia_cuda_cupti_cu12-12.1.105-py3-none-manylinux1_x86_64.whl (14.1 MB)\n",
            "\u001b[2K     \u001b[90m━━━━━━━━━━━━━━━━━━━━━━━━━━━━━━━━━━━━━━━━\u001b[0m \u001b[32m14.1/14.1 MB\u001b[0m \u001b[31m95.1 MB/s\u001b[0m eta \u001b[36m0:00:00\u001b[0m\n",
            "\u001b[?25hCollecting nvidia-cudnn-cu12==8.9.2.26 (from torch>=1.7.0->ultralytics==8.0.28)\n",
            "  Downloading nvidia_cudnn_cu12-8.9.2.26-py3-none-manylinux1_x86_64.whl (731.7 MB)\n",
            "\u001b[2K     \u001b[90m━━━━━━━━━━━━━━━━━━━━━━━━━━━━━━━━━━━━━━━━\u001b[0m \u001b[32m731.7/731.7 MB\u001b[0m \u001b[31m2.4 MB/s\u001b[0m eta \u001b[36m0:00:00\u001b[0m\n",
            "\u001b[?25hCollecting nvidia-cublas-cu12==12.1.3.1 (from torch>=1.7.0->ultralytics==8.0.28)\n",
            "  Downloading nvidia_cublas_cu12-12.1.3.1-py3-none-manylinux1_x86_64.whl (410.6 MB)\n",
            "\u001b[2K     \u001b[90m━━━━━━━━━━━━━━━━━━━━━━━━━━━━━━━━━━━━━━━━\u001b[0m \u001b[32m410.6/410.6 MB\u001b[0m \u001b[31m2.9 MB/s\u001b[0m eta \u001b[36m0:00:00\u001b[0m\n",
            "\u001b[?25hCollecting nvidia-cufft-cu12==11.0.2.54 (from torch>=1.7.0->ultralytics==8.0.28)\n",
            "  Downloading nvidia_cufft_cu12-11.0.2.54-py3-none-manylinux1_x86_64.whl (121.6 MB)\n",
            "\u001b[2K     \u001b[90m━━━━━━━━━━━━━━━━━━━━━━━━━━━━━━━━━━━━━━━━\u001b[0m \u001b[32m121.6/121.6 MB\u001b[0m \u001b[31m8.6 MB/s\u001b[0m eta \u001b[36m0:00:00\u001b[0m\n",
            "\u001b[?25hCollecting nvidia-curand-cu12==10.3.2.106 (from torch>=1.7.0->ultralytics==8.0.28)\n",
            "  Downloading nvidia_curand_cu12-10.3.2.106-py3-none-manylinux1_x86_64.whl (56.5 MB)\n",
            "\u001b[2K     \u001b[90m━━━━━━━━━━━━━━━━━━━━━━━━━━━━━━━━━━━━━━━━\u001b[0m \u001b[32m56.5/56.5 MB\u001b[0m \u001b[31m13.0 MB/s\u001b[0m eta \u001b[36m0:00:00\u001b[0m\n",
            "\u001b[?25hCollecting nvidia-cusolver-cu12==11.4.5.107 (from torch>=1.7.0->ultralytics==8.0.28)\n",
            "  Downloading nvidia_cusolver_cu12-11.4.5.107-py3-none-manylinux1_x86_64.whl (124.2 MB)\n",
            "\u001b[2K     \u001b[90m━━━━━━━━━━━━━━━━━━━━━━━━━━━━━━━━━━━━━━━━\u001b[0m \u001b[32m124.2/124.2 MB\u001b[0m \u001b[31m8.3 MB/s\u001b[0m eta \u001b[36m0:00:00\u001b[0m\n",
            "\u001b[?25hCollecting nvidia-cusparse-cu12==12.1.0.106 (from torch>=1.7.0->ultralytics==8.0.28)\n",
            "  Downloading nvidia_cusparse_cu12-12.1.0.106-py3-none-manylinux1_x86_64.whl (196.0 MB)\n",
            "\u001b[2K     \u001b[90m━━━━━━━━━━━━━━━━━━━━━━━━━━━━━━━━━━━━━━━━\u001b[0m \u001b[32m196.0/196.0 MB\u001b[0m \u001b[31m6.3 MB/s\u001b[0m eta \u001b[36m0:00:00\u001b[0m\n",
            "\u001b[?25hCollecting nvidia-nccl-cu12==2.19.3 (from torch>=1.7.0->ultralytics==8.0.28)\n",
            "  Downloading nvidia_nccl_cu12-2.19.3-py3-none-manylinux1_x86_64.whl (166.0 MB)\n",
            "\u001b[2K     \u001b[90m━━━━━━━━━━━━━━━━━━━━━━━━━━━━━━━━━━━━━━━━\u001b[0m \u001b[32m166.0/166.0 MB\u001b[0m \u001b[31m7.0 MB/s\u001b[0m eta \u001b[36m0:00:00\u001b[0m\n",
            "\u001b[?25hCollecting nvidia-nvtx-cu12==12.1.105 (from torch>=1.7.0->ultralytics==8.0.28)\n",
            "  Downloading nvidia_nvtx_cu12-12.1.105-py3-none-manylinux1_x86_64.whl (99 kB)\n",
            "\u001b[2K     \u001b[90m━━━━━━━━━━━━━━━━━━━━━━━━━━━━━━━━━━━━━━━━\u001b[0m \u001b[32m99.1/99.1 kB\u001b[0m \u001b[31m13.8 MB/s\u001b[0m eta \u001b[36m0:00:00\u001b[0m\n",
            "\u001b[?25hRequirement already satisfied: triton==2.2.0 in /usr/local/lib/python3.10/dist-packages (from torch>=1.7.0->ultralytics==8.0.28) (2.2.0)\n",
            "Collecting nvidia-nvjitlink-cu12 (from nvidia-cusolver-cu12==11.4.5.107->torch>=1.7.0->ultralytics==8.0.28)\n",
            "  Downloading nvidia_nvjitlink_cu12-12.4.127-py3-none-manylinux2014_x86_64.whl (21.1 MB)\n",
            "\u001b[2K     \u001b[90m━━━━━━━━━━━━━━━━━━━━━━━━━━━━━━━━━━━━━━━━\u001b[0m \u001b[32m21.1/21.1 MB\u001b[0m \u001b[31m82.8 MB/s\u001b[0m eta \u001b[36m0:00:00\u001b[0m\n",
            "\u001b[?25hCollecting jedi>=0.16 (from ipython->ultralytics==8.0.28)\n",
            "  Downloading jedi-0.19.1-py2.py3-none-any.whl (1.6 MB)\n",
            "\u001b[2K     \u001b[90m━━━━━━━━━━━━━━━━━━━━━━━━━━━━━━━━━━━━━━━━\u001b[0m \u001b[32m1.6/1.6 MB\u001b[0m \u001b[31m95.5 MB/s\u001b[0m eta \u001b[36m0:00:00\u001b[0m\n",
            "\u001b[?25hRequirement already satisfied: decorator in /usr/local/lib/python3.10/dist-packages (from ipython->ultralytics==8.0.28) (4.4.2)\n",
            "Requirement already satisfied: pickleshare in /usr/local/lib/python3.10/dist-packages (from ipython->ultralytics==8.0.28) (0.7.5)\n",
            "Requirement already satisfied: traitlets>=4.2 in /usr/local/lib/python3.10/dist-packages (from ipython->ultralytics==8.0.28) (5.7.1)\n",
            "Requirement already satisfied: prompt-toolkit!=3.0.0,!=3.0.1,<3.1.0,>=2.0.0 in /usr/local/lib/python3.10/dist-packages (from ipython->ultralytics==8.0.28) (3.0.43)\n",
            "Requirement already satisfied: pygments in /usr/local/lib/python3.10/dist-packages (from ipython->ultralytics==8.0.28) (2.16.1)\n",
            "Requirement already satisfied: backcall in /usr/local/lib/python3.10/dist-packages (from ipython->ultralytics==8.0.28) (0.2.0)\n",
            "Requirement already satisfied: matplotlib-inline in /usr/local/lib/python3.10/dist-packages (from ipython->ultralytics==8.0.28) (0.1.6)\n",
            "Requirement already satisfied: pexpect>4.3 in /usr/local/lib/python3.10/dist-packages (from ipython->ultralytics==8.0.28) (4.9.0)\n",
            "Requirement already satisfied: cachetools<6.0,>=2.0.0 in /usr/local/lib/python3.10/dist-packages (from google-auth<3,>=1.6.3->tensorboard>=2.4.1->ultralytics==8.0.28) (5.3.3)\n",
            "Requirement already satisfied: pyasn1-modules>=0.2.1 in /usr/local/lib/python3.10/dist-packages (from google-auth<3,>=1.6.3->tensorboard>=2.4.1->ultralytics==8.0.28) (0.4.0)\n",
            "Requirement already satisfied: rsa<5,>=3.1.4 in /usr/local/lib/python3.10/dist-packages (from google-auth<3,>=1.6.3->tensorboard>=2.4.1->ultralytics==8.0.28) (4.9)\n",
            "Requirement already satisfied: requests-oauthlib>=0.7.0 in /usr/local/lib/python3.10/dist-packages (from google-auth-oauthlib<2,>=0.5->tensorboard>=2.4.1->ultralytics==8.0.28) (1.4.1)\n",
            "Requirement already satisfied: parso<0.9.0,>=0.8.3 in /usr/local/lib/python3.10/dist-packages (from jedi>=0.16->ipython->ultralytics==8.0.28) (0.8.3)\n",
            "Requirement already satisfied: ptyprocess>=0.5 in /usr/local/lib/python3.10/dist-packages (from pexpect>4.3->ipython->ultralytics==8.0.28) (0.7.0)\n",
            "Requirement already satisfied: wcwidth in /usr/local/lib/python3.10/dist-packages (from prompt-toolkit!=3.0.0,!=3.0.1,<3.1.0,>=2.0.0->ipython->ultralytics==8.0.28) (0.2.13)\n",
            "Requirement already satisfied: MarkupSafe>=2.1.1 in /usr/local/lib/python3.10/dist-packages (from werkzeug>=1.0.1->tensorboard>=2.4.1->ultralytics==8.0.28) (2.1.5)\n",
            "Requirement already satisfied: mpmath>=0.19 in /usr/local/lib/python3.10/dist-packages (from sympy->torch>=1.7.0->ultralytics==8.0.28) (1.3.0)\n",
            "Requirement already satisfied: pyasn1<0.7.0,>=0.4.6 in /usr/local/lib/python3.10/dist-packages (from pyasn1-modules>=0.2.1->google-auth<3,>=1.6.3->tensorboard>=2.4.1->ultralytics==8.0.28) (0.6.0)\n",
            "Requirement already satisfied: oauthlib>=3.0.0 in /usr/local/lib/python3.10/dist-packages (from requests-oauthlib>=0.7.0->google-auth-oauthlib<2,>=0.5->tensorboard>=2.4.1->ultralytics==8.0.28) (3.2.2)\n",
            "Installing collected packages: sentry-sdk, nvidia-nvtx-cu12, nvidia-nvjitlink-cu12, nvidia-nccl-cu12, nvidia-curand-cu12, nvidia-cufft-cu12, nvidia-cuda-runtime-cu12, nvidia-cuda-nvrtc-cu12, nvidia-cuda-cupti-cu12, nvidia-cublas-cu12, jedi, nvidia-cusparse-cu12, nvidia-cudnn-cu12, nvidia-cusolver-cu12, thop, ultralytics\n",
            "Successfully installed jedi-0.19.1 nvidia-cublas-cu12-12.1.3.1 nvidia-cuda-cupti-cu12-12.1.105 nvidia-cuda-nvrtc-cu12-12.1.105 nvidia-cuda-runtime-cu12-12.1.105 nvidia-cudnn-cu12-8.9.2.26 nvidia-cufft-cu12-11.0.2.54 nvidia-curand-cu12-10.3.2.106 nvidia-cusolver-cu12-11.4.5.107 nvidia-cusparse-cu12-12.1.0.106 nvidia-nccl-cu12-2.19.3 nvidia-nvjitlink-cu12-12.4.127 nvidia-nvtx-cu12-12.1.105 sentry-sdk-2.0.1 thop-0.1.1.post2209072238 ultralytics-8.0.28\n"
          ]
        }
      ],
      "source": [
        "!pip install ultralytics==8.0.28"
      ]
    },
    {
      "cell_type": "markdown",
      "source": [],
      "metadata": {
        "id": "LWnQmmXeWQrQ"
      }
    },
    {
      "cell_type": "code",
      "source": [
        "!yolo task=segment mode=train model=yolov8s-seg.pt  data=/content/drive/MyDrive/data.yaml epochs=10 imgsz=640"
      ],
      "metadata": {
        "colab": {
          "base_uri": "https://localhost:8080/"
        },
        "id": "2_OkufktFPuQ",
        "outputId": "7836b6e4-bb02-498d-84cc-f4bdc8c7629c"
      },
      "execution_count": null,
      "outputs": [
        {
          "output_type": "stream",
          "name": "stdout",
          "text": [
            "Ultralytics YOLOv8.0.28 🚀 Python-3.10.12 torch-2.2.1+cu121 CUDA:0 (Tesla T4, 15102MiB)\n",
            "\u001b[34m\u001b[1myolo/engine/trainer: \u001b[0mtask=segment, mode=train, model=yolov8s-seg.pt, data=/content/drive/MyDrive/data.yaml, epochs=10, patience=50, batch=16, imgsz=640, save=True, cache=False, device=None, workers=8, project=None, name=None, exist_ok=False, pretrained=False, optimizer=SGD, verbose=True, seed=0, deterministic=True, single_cls=False, image_weights=False, rect=False, cos_lr=False, close_mosaic=10, resume=False, overlap_mask=True, mask_ratio=4, dropout=0.0, val=True, save_json=False, save_hybrid=False, conf=None, iou=0.7, max_det=300, half=False, dnn=False, plots=True, source=None, show=False, save_txt=False, save_conf=False, save_crop=False, hide_labels=False, hide_conf=False, vid_stride=1, line_thickness=3, visualize=False, augment=False, agnostic_nms=False, classes=None, retina_masks=False, boxes=True, format=torchscript, keras=False, optimize=False, int8=False, dynamic=False, simplify=False, opset=None, workspace=4, nms=False, lr0=0.01, lrf=0.01, momentum=0.937, weight_decay=0.0005, warmup_epochs=3.0, warmup_momentum=0.8, warmup_bias_lr=0.1, box=7.5, cls=0.5, dfl=1.5, fl_gamma=0.0, label_smoothing=0.0, nbs=64, hsv_h=0.015, hsv_s=0.7, hsv_v=0.4, degrees=0.0, translate=0.1, scale=0.5, shear=0.0, perspective=0.0, flipud=0.0, fliplr=0.5, mosaic=1.0, mixup=0.0, copy_paste=0.0, cfg=None, v5loader=False, save_dir=runs/segment/train5\n",
            "2024-04-28 04:19:50.123973: E external/local_xla/xla/stream_executor/cuda/cuda_dnn.cc:9261] Unable to register cuDNN factory: Attempting to register factory for plugin cuDNN when one has already been registered\n",
            "2024-04-28 04:19:50.124038: E external/local_xla/xla/stream_executor/cuda/cuda_fft.cc:607] Unable to register cuFFT factory: Attempting to register factory for plugin cuFFT when one has already been registered\n",
            "2024-04-28 04:19:50.125329: E external/local_xla/xla/stream_executor/cuda/cuda_blas.cc:1515] Unable to register cuBLAS factory: Attempting to register factory for plugin cuBLAS when one has already been registered\n",
            "2024-04-28 04:19:51.196793: W tensorflow/compiler/tf2tensorrt/utils/py_utils.cc:38] TF-TRT Warning: Could not find TensorRT\n",
            "Overriding model.yaml nc=80 with nc=1\n",
            "\n",
            "                   from  n    params  module                                       arguments                     \n",
            "  0                  -1  1       928  ultralytics.nn.modules.Conv                  [3, 32, 3, 2]                 \n",
            "  1                  -1  1     18560  ultralytics.nn.modules.Conv                  [32, 64, 3, 2]                \n",
            "  2                  -1  1     29056  ultralytics.nn.modules.C2f                   [64, 64, 1, True]             \n",
            "  3                  -1  1     73984  ultralytics.nn.modules.Conv                  [64, 128, 3, 2]               \n",
            "  4                  -1  2    197632  ultralytics.nn.modules.C2f                   [128, 128, 2, True]           \n",
            "  5                  -1  1    295424  ultralytics.nn.modules.Conv                  [128, 256, 3, 2]              \n",
            "  6                  -1  2    788480  ultralytics.nn.modules.C2f                   [256, 256, 2, True]           \n",
            "  7                  -1  1   1180672  ultralytics.nn.modules.Conv                  [256, 512, 3, 2]              \n",
            "  8                  -1  1   1838080  ultralytics.nn.modules.C2f                   [512, 512, 1, True]           \n",
            "  9                  -1  1    656896  ultralytics.nn.modules.SPPF                  [512, 512, 5]                 \n",
            " 10                  -1  1         0  torch.nn.modules.upsampling.Upsample         [None, 2, 'nearest']          \n",
            " 11             [-1, 6]  1         0  ultralytics.nn.modules.Concat                [1]                           \n",
            " 12                  -1  1    591360  ultralytics.nn.modules.C2f                   [768, 256, 1]                 \n",
            " 13                  -1  1         0  torch.nn.modules.upsampling.Upsample         [None, 2, 'nearest']          \n",
            " 14             [-1, 4]  1         0  ultralytics.nn.modules.Concat                [1]                           \n",
            " 15                  -1  1    148224  ultralytics.nn.modules.C2f                   [384, 128, 1]                 \n",
            " 16                  -1  1    147712  ultralytics.nn.modules.Conv                  [128, 128, 3, 2]              \n",
            " 17            [-1, 12]  1         0  ultralytics.nn.modules.Concat                [1]                           \n",
            " 18                  -1  1    493056  ultralytics.nn.modules.C2f                   [384, 256, 1]                 \n",
            " 19                  -1  1    590336  ultralytics.nn.modules.Conv                  [256, 256, 3, 2]              \n",
            " 20             [-1, 9]  1         0  ultralytics.nn.modules.Concat                [1]                           \n",
            " 21                  -1  1   1969152  ultralytics.nn.modules.C2f                   [768, 512, 1]                 \n",
            " 22        [15, 18, 21]  1   2770931  ultralytics.nn.modules.Segment               [1, 32, 128, [128, 256, 512]] \n",
            "YOLOv8s-seg summary: 261 layers, 11790483 parameters, 11790467 gradients, 42.7 GFLOPs\n",
            "\n",
            "Transferred 411/417 items from pretrained weights\n",
            "\u001b[34m\u001b[1moptimizer:\u001b[0m SGD(lr=0.01) with parameter groups 66 weight(decay=0.0), 77 weight(decay=0.0005), 76 bias\n",
            "\u001b[34m\u001b[1mtrain: \u001b[0mScanning /content/drive/MyDrive/train/labels.cache... 547 images, 3 backgrounds, 0 corrupt: 100% 550/550 [00:00<?, ?it/s]\n",
            "\u001b[34m\u001b[1malbumentations: \u001b[0mBlur(p=0.01, blur_limit=(3, 7)), MedianBlur(p=0.01, blur_limit=(3, 7)), ToGray(p=0.01), CLAHE(p=0.01, clip_limit=(1, 4.0), tile_grid_size=(8, 8))\n",
            "\u001b[34m\u001b[1mval: \u001b[0mScanning /content/drive/MyDrive/val/labels.cache... 100 images, 0 backgrounds, 0 corrupt: 100% 100/100 [00:00<?, ?it/s]\n",
            "Image sizes 640 train, 640 val\n",
            "Using 2 dataloader workers\n",
            "Logging results to \u001b[1mruns/segment/train5\u001b[0m\n",
            "Starting training for 10 epochs...\n",
            "Closing dataloader mosaic\n",
            "\u001b[34m\u001b[1malbumentations: \u001b[0mBlur(p=0.01, blur_limit=(3, 7)), MedianBlur(p=0.01, blur_limit=(3, 7)), ToGray(p=0.01), CLAHE(p=0.01, clip_limit=(1, 4.0), tile_grid_size=(8, 8))\n",
            "\n",
            "      Epoch    GPU_mem   box_loss   seg_loss   cls_loss   dfl_loss  Instances       Size\n",
            "  0% 0/35 [00:00<?, ?it/s]1 tensor([], size=(0, 1))\n",
            "2 tensor([[ 0.],\n",
            "        [ 0.],\n",
            "        [ 0.],\n",
            "        [ 1.],\n",
            "        [ 1.],\n",
            "        [ 1.],\n",
            "        [ 1.],\n",
            "        [ 1.],\n",
            "        [ 1.],\n",
            "        [ 1.],\n",
            "        [ 1.],\n",
            "        [ 1.],\n",
            "        [ 1.],\n",
            "        [ 1.],\n",
            "        [ 1.],\n",
            "        [ 1.],\n",
            "        [ 1.],\n",
            "        [ 2.],\n",
            "        [ 2.],\n",
            "        [ 2.],\n",
            "        [ 2.],\n",
            "        [ 2.],\n",
            "        [ 2.],\n",
            "        [ 2.],\n",
            "        [ 2.],\n",
            "        [ 2.],\n",
            "        [ 2.],\n",
            "        [ 2.],\n",
            "        [ 2.],\n",
            "        [ 2.],\n",
            "        [ 2.],\n",
            "        [ 2.],\n",
            "        [ 2.],\n",
            "        [ 3.],\n",
            "        [ 3.],\n",
            "        [ 3.],\n",
            "        [ 3.],\n",
            "        [ 3.],\n",
            "        [ 3.],\n",
            "        [ 4.],\n",
            "        [ 4.],\n",
            "        [ 4.],\n",
            "        [ 4.],\n",
            "        [ 4.],\n",
            "        [ 4.],\n",
            "        [ 4.],\n",
            "        [ 4.],\n",
            "        [ 5.],\n",
            "        [ 5.],\n",
            "        [ 5.],\n",
            "        [ 5.],\n",
            "        [ 5.],\n",
            "        [ 5.],\n",
            "        [ 5.],\n",
            "        [ 5.],\n",
            "        [ 5.],\n",
            "        [ 5.],\n",
            "        [ 6.],\n",
            "        [ 6.],\n",
            "        [ 6.],\n",
            "        [ 6.],\n",
            "        [ 6.],\n",
            "        [ 6.],\n",
            "        [ 6.],\n",
            "        [ 7.],\n",
            "        [ 7.],\n",
            "        [ 7.],\n",
            "        [ 7.],\n",
            "        [ 7.],\n",
            "        [ 8.],\n",
            "        [ 8.],\n",
            "        [ 8.],\n",
            "        [ 8.],\n",
            "        [ 8.],\n",
            "        [ 8.],\n",
            "        [ 8.],\n",
            "        [ 8.],\n",
            "        [ 8.],\n",
            "        [ 8.],\n",
            "        [ 8.],\n",
            "        [ 8.],\n",
            "        [ 9.],\n",
            "        [ 9.],\n",
            "        [ 9.],\n",
            "        [ 9.],\n",
            "        [ 9.],\n",
            "        [10.],\n",
            "        [10.],\n",
            "        [10.],\n",
            "        [10.],\n",
            "        [10.],\n",
            "        [10.],\n",
            "        [10.],\n",
            "        [10.],\n",
            "        [10.],\n",
            "        [11.],\n",
            "        [11.],\n",
            "        [11.],\n",
            "        [11.],\n",
            "        [11.],\n",
            "        [11.],\n",
            "        [11.],\n",
            "        [11.],\n",
            "        [11.],\n",
            "        [11.],\n",
            "        [11.],\n",
            "        [12.],\n",
            "        [12.],\n",
            "        [12.],\n",
            "        [12.],\n",
            "        [12.],\n",
            "        [12.],\n",
            "        [12.],\n",
            "        [12.],\n",
            "        [12.],\n",
            "        [12.],\n",
            "        [12.],\n",
            "        [12.],\n",
            "        [13.],\n",
            "        [13.],\n",
            "        [13.],\n",
            "        [13.],\n",
            "        [13.],\n",
            "        [13.],\n",
            "        [13.],\n",
            "        [13.],\n",
            "        [13.],\n",
            "        [13.],\n",
            "        [13.],\n",
            "        [13.],\n",
            "        [13.],\n",
            "        [14.],\n",
            "        [14.],\n",
            "        [14.],\n",
            "        [14.],\n",
            "        [14.],\n",
            "        [14.],\n",
            "        [14.],\n",
            "        [14.],\n",
            "        [14.],\n",
            "        [14.],\n",
            "        [14.],\n",
            "        [14.],\n",
            "        [14.],\n",
            "        [14.],\n",
            "        [14.],\n",
            "        [14.],\n",
            "        [15.],\n",
            "        [15.],\n",
            "        [15.],\n",
            "        [15.],\n",
            "        [15.],\n",
            "        [15.],\n",
            "        [15.],\n",
            "        [15.],\n",
            "        [15.],\n",
            "        [15.],\n",
            "        [15.],\n",
            "        [15.]])\n",
            "3 tensor([], size=(0, 4), dtype=torch.float64)\n",
            "  0% 0/35 [00:10<?, ?it/s]\n",
            "Traceback (most recent call last):\n",
            "  File \"/usr/local/bin/yolo\", line 8, in <module>\n",
            "    sys.exit(entrypoint())\n",
            "  File \"/usr/local/lib/python3.10/dist-packages/ultralytics/yolo/cfg/__init__.py\", line 266, in entrypoint\n",
            "    getattr(model, mode)(**vars(cfg))\n",
            "  File \"/usr/local/lib/python3.10/dist-packages/ultralytics/yolo/engine/model.py\", line 214, in train\n",
            "    self.trainer.train()\n",
            "  File \"/usr/local/lib/python3.10/dist-packages/ultralytics/yolo/engine/trainer.py\", line 182, in train\n",
            "    self._do_train(int(os.getenv(\"RANK\", -1)), world_size)\n",
            "  File \"/usr/local/lib/python3.10/dist-packages/ultralytics/yolo/engine/trainer.py\", line 301, in _do_train\n",
            "    self.loss, self.loss_items = self.criterion(preds, batch)\n",
            "  File \"/usr/local/lib/python3.10/dist-packages/ultralytics/yolo/v8/segment/train.py\", line 44, in criterion\n",
            "    return self.compute_loss(preds, batch)\n",
            "  File \"/usr/local/lib/python3.10/dist-packages/ultralytics/yolo/v8/segment/train.py\", line 88, in __call__\n",
            "    targets = torch.cat((batch_idx, batch[\"cls\"].view(-1, 1), batch[\"bboxes\"]), 1)\n",
            "RuntimeError: Sizes of tensors must match except in dimension 1. Expected size 159 but got size 0 for tensor number 1 in the list.\n",
            "Sentry is attempting to send 2 pending events\n",
            "Waiting up to 2 seconds\n",
            "Press Ctrl-C to quit\n"
          ]
        }
      ]
    },
    {
      "cell_type": "code",
      "source": [
        "import os\n",
        "\n",
        "# Paths to your directories\n",
        "image_dir = '/content/drive/MyDrive/Train/images'\n",
        "label_dir = '/content/drive/MyDrive/Train/mask'\n",
        "\n",
        "# Get list of files\n",
        "images = os.listdir(image_dir)\n",
        "labels = os.listdir(label_dir)\n",
        "\n",
        "# Sort lists to maintain order\n",
        "images.sort()\n",
        "labels.sort()\n",
        "\n",
        "print(\"Images:\", images)\n",
        "print(\"Labels:\", labels)\n"
      ],
      "metadata": {
        "colab": {
          "base_uri": "https://localhost:8080/"
        },
        "id": "4KG_a7pzT_TJ",
        "outputId": "fdaf7cab-0747-428b-d894-acd0ada130c5"
      },
      "execution_count": null,
      "outputs": [
        {
          "output_type": "stream",
          "name": "stdout",
          "text": [
            "Images: ['Block_1C1_Row_1_Middle_1003.png', 'Block_1C1_Row_1_Middle_1013.png', 'Block_1C1_Row_1_Middle_1018.png', 'Block_1C1_Row_1_Middle_1023.png', 'Block_1C1_Row_1_Middle_1048.png', 'Block_1C1_Row_1_Middle_1058.png', 'Block_1C1_Row_1_Middle_1063.png', 'Block_1C1_Row_1_Middle_1068.png', 'Block_1C1_Row_1_Middle_1073.png', 'Block_1C1_Row_1_Middle_1078.png', 'Block_1C1_Row_1_Middle_1083.png', 'Block_1C1_Row_1_Middle_1103 (1).png', 'Block_1C1_Row_1_Middle_1103.png', 'Block_1C1_Row_1_Middle_1108.png', 'Block_1C1_Row_1_Middle_1113.png', 'Block_1C1_Row_1_Middle_1133.png', 'Block_1C1_Row_1_Middle_1138.png', 'Block_1C1_Row_1_Middle_1143.png', 'Block_1C1_Row_1_Middle_1148.png', 'Block_1C1_Row_1_Middle_1153.png', 'Block_1C1_Row_1_Middle_1158.png', 'Block_1C1_Row_1_Middle_1163.png', 'Block_1C1_Row_1_Middle_1173.png', 'Block_1C1_Row_1_Middle_1178.png', 'Block_1C1_Row_1_Middle_1183.png', 'Block_1C1_Row_1_Middle_1213.png', 'Block_1C1_Row_1_Middle_1218.png', 'Block_1C1_Row_1_Middle_1238.png', 'Block_1C1_Row_1_Middle_1243.png', 'Block_1C1_Row_1_Middle_1248.png', 'Block_1C1_Row_1_Middle_1253.png', 'Block_1C1_Row_1_Middle_1263.png', 'Block_1C1_Row_1_Middle_1273.png', 'Block_1C1_Row_1_Middle_1278.png', 'Block_1C1_Row_1_Middle_1283.png', 'Block_1C1_Row_1_Middle_1303.png', 'Block_1C1_Row_1_Middle_1308.png', 'Block_1C1_Row_1_Middle_1333.png', 'Block_1C1_Row_1_Middle_1338.png', 'Block_1C1_Row_1_Middle_1353.png', 'Block_1C1_Row_1_Middle_1358.png', 'Block_1C1_Row_1_Middle_1368.png', 'Block_1C1_Row_1_Middle_1373.png', 'Block_1C1_Row_1_Middle_1378.png', 'Block_1C1_Row_1_Middle_1383.png', 'Block_1C1_Row_1_Middle_1403.png', 'Block_1C1_Row_1_Middle_1408.png', 'Block_1C1_Row_1_Middle_1413.png', 'Block_1C1_Row_1_Middle_1443.png', 'Block_1C1_Row_1_Middle_1448.png', 'Block_1C1_Row_1_Middle_1453.png', 'Block_1C1_Row_1_Middle_1458.png', 'Block_1C1_Row_1_Middle_1473.png', 'Block_1C1_Row_1_Middle_1482.png', 'Block_1C1_Row_1_Middle_1514.png', 'Block_1C1_Row_1_Middle_1526.png', 'Block_1C1_Row_1_Middle_1542.png', 'Block_1C1_Row_1_Middle_1546.png', 'Block_1C1_Row_1_Middle_1554.png', 'Block_1C1_Row_1_Middle_1570.png', 'Block_1C1_Row_1_Middle_1578.png', 'Block_1C1_Row_1_Middle_1586.png', 'Block_1C1_Row_1_Middle_1602.png', 'Block_1C1_Row_1_Middle_1606.png', 'Block_1C1_Row_1_Middle_1610.png', 'Block_1C1_Row_1_Middle_1614.png', 'Block_1C1_Row_1_Middle_1618.png', 'Block_1C1_Row_1_Middle_1630.png', 'Block_1C1_Row_1_Middle_1638.png', 'Block_1C1_Row_1_Middle_1642.png', 'Block_1C1_Row_1_Middle_1650.png', 'Block_1C1_Row_1_Middle_1658.png', 'Block_1C1_Row_1_Middle_1666.png', 'Block_1C1_Row_1_Middle_1682.png', 'Block_1C1_Row_1_Middle_1686.png', 'Block_1C1_Row_1_Middle_1690.png', 'Block_1C1_Row_1_Middle_1694.png', 'Block_1C1_Row_1_Middle_1698.png', 'Block_1C1_Row_1_Middle_1706.png', 'Block_1C1_Row_1_Middle_1710.png', 'Block_1C1_Row_1_Middle_1714.png', 'Block_1C1_Row_1_Middle_1718.png', 'Block_1C1_Row_1_Middle_1722.png', 'Block_1C1_Row_1_Middle_1730.png', 'Block_1C1_Row_1_Middle_1738.png', 'Block_1C1_Row_1_Middle_1746.png', 'Block_1C1_Row_1_Middle_1750.png', 'Block_1C1_Row_1_Middle_1754.png', 'Block_1C1_Row_1_Middle_1762.png', 'Block_1C1_Row_1_Middle_1766.png', 'Block_1C1_Row_1_Middle_1770.png', 'Block_1C1_Row_1_Middle_1782.png', 'Block_1C1_Row_1_Middle_1786.png', 'Block_1C1_Row_1_Middle_1790.png', 'Block_1C1_Row_1_Middle_1814.png', 'Block_1C1_Row_1_Middle_1826.png', 'Block_1C1_Row_1_Middle_1838.png', 'Block_1C1_Row_1_Middle_1846.png', 'Block_1C1_Row_1_Middle_1850.png', 'Block_1C1_Row_1_Middle_1854.png', 'Block_1C1_Row_1_Middle_1858.png', 'Block_1C1_Row_1_Middle_1862.png', 'Block_1C1_Row_1_Middle_1878.png', 'Block_1C1_Row_1_Middle_1890.png', 'Block_1C1_Row_1_Middle_1894.png', 'Block_1C1_Row_1_Middle_1898.png', 'Block_1C1_Row_1_Middle_1906.png', 'Block_1C1_Row_1_Middle_1914.png', 'Block_1C1_Row_1_Middle_1918.png', 'Block_1C1_Row_1_Middle_1922.png', 'Block_1C1_Row_1_Middle_1930.png', 'Block_1C1_Row_1_Middle_1938.png', 'Block_1C1_Row_1_Middle_1946.png', 'Block_1C1_Row_1_Middle_1954.png', 'Block_1C1_Row_1_Middle_1958.png', 'Block_1C1_Row_1_Middle_1962.png', 'Block_1C1_Row_1_Middle_1970.png', 'Block_1C1_Row_1_Middle_1974.png', 'Block_1C1_Row_1_Middle_1982.png', 'Block_1C1_Row_1_Middle_1986.png', 'Block_1C1_Row_1_Middle_1990.png', 'Block_1C1_Row_1_Middle_2002.png', 'Block_1C1_Row_1_Middle_2006.png', 'Block_1C1_Row_1_Middle_2010.png', 'Block_1C1_Row_1_Middle_2018.png', 'Block_1C1_Row_1_Middle_2022.png', 'Block_1C1_Row_1_Middle_2030.png', 'Block_1C1_Row_1_Middle_2050.png', 'Block_1C1_Row_1_Middle_2054.png', 'Block_1C1_Row_1_Middle_2070.png', 'Block_1C1_Row_1_Middle_2078.png', 'Block_1C1_Row_1_Middle_2082.png', 'Block_1C1_Row_1_Middle_2086.png', 'Block_1C1_Row_1_Middle_2098.png', 'Block_1C1_Row_1_Middle_2102.png', 'Block_1C1_Row_1_Middle_2110.png', 'Block_1C1_Row_1_Middle_2118.png', 'Block_1C1_Row_1_Middle_2122.png', 'Block_1C1_Row_1_Middle_2134.png', 'Block_1C1_Row_1_Middle_2138.png', 'Block_1C1_Row_1_Middle_2142.png', 'Block_1C1_Row_1_Middle_2146.png', 'Block_1C1_Row_1_Middle_2154.png', 'Block_1C1_Row_1_Middle_2166.png', 'Block_1C1_Row_1_Middle_2174.png', 'Block_1C1_Row_1_Middle_2182.png', 'Block_1C1_Row_1_Middle_2186.png', 'Block_1C1_Row_1_Middle_2190.png', 'Block_1C1_Row_1_Middle_2198.png', 'Block_1C1_Row_1_Middle_2202.png', 'Block_1C1_Row_1_Middle_2218.png', 'Block_1C1_Row_1_Middle_2226.png', 'Block_1C1_Row_1_Middle_2230.png', 'Block_1C1_Row_1_Middle_2234.png', 'Block_1C1_Row_1_Middle_2250.png', 'Block_1C1_Row_1_Middle_2254.png', 'Block_1C1_Row_1_Middle_2258.png', 'Block_1C1_Row_1_Middle_2262.png', 'Block_1C1_Row_1_Middle_2270.png', 'Block_1C1_Row_1_Middle_2278.png', 'Block_1C1_Row_1_Middle_2282.png', 'Block_1C1_Row_1_Middle_2286.png', 'Block_1C1_Row_1_Middle_2290.png', 'Block_1C1_Row_1_Middle_2306.png', 'Block_1C1_Row_1_Middle_2314.png', 'Block_1C1_Row_1_Middle_2318.png', 'Block_1C1_Row_1_Middle_2322.png', 'Block_1C1_Row_1_Middle_2330.png', 'Block_1C1_Row_1_Middle_2338.png', 'Block_1C1_Row_1_Middle_2342.png', 'Block_1C1_Row_1_Middle_2366.png', 'Block_1C1_Row_1_Middle_2370.png', 'Block_1C1_Row_1_Middle_2374.png', 'Block_1C1_Row_1_Middle_2378 (1).png', 'Block_1C1_Row_1_Middle_2378.png', 'Block_1C1_Row_1_Middle_2394.png', 'Block_1C1_Row_1_Middle_2398.png', 'Block_1C1_Row_1_Middle_2402.png', 'Block_1C1_Row_1_Middle_2406.png', 'Block_1C1_Row_1_Middle_2410.png', 'Block_1C1_Row_1_Middle_2418.png', 'Block_1C1_Row_1_Middle_2426.png', 'Block_1C1_Row_1_Middle_2430.png', 'Block_1C1_Row_1_Middle_2438.png', 'Block_1C1_Row_1_Middle_2442.png', 'Block_1C1_Row_1_Middle_2446.png', 'Block_1C1_Row_1_Middle_2450.png', 'Block_1C1_Row_1_Middle_2458.png', 'Block_1C1_Row_1_Middle_2462.png', 'Block_1C1_Row_1_Middle_2466.png', 'Block_1C1_Row_1_Middle_2470.png', 'Block_1C1_Row_1_Middle_2474.png', 'Block_1C1_Row_1_Middle_2478.png', 'Block_1C1_Row_1_Middle_2482.png', 'Block_1C1_Row_1_Middle_2498.png', 'Block_1C1_Row_1_Middle_2506.png', 'Block_1C1_Row_1_Middle_2518.png', 'Block_1C1_Row_1_Middle_2530.png', 'Block_1C1_Row_1_Middle_2542.png', 'Block_1C1_Row_1_Middle_2562.png', 'Block_1C1_Row_1_Middle_2566.png', 'Block_1C1_Row_1_Middle_2570.png', 'Block_1C1_Row_1_Middle_2574.png', 'Block_1C1_Row_1_Middle_2578.png', 'Block_1C1_Row_1_Middle_2582.png', 'Block_1C1_Row_1_Middle_2618.png', 'Block_1C1_Row_1_Middle_2622.png', 'Block_1C1_Row_1_Middle_2630.png', 'Block_1C1_Row_1_Middle_2650.png', 'Block_1C1_Row_1_Middle_2654.png', 'Block_1C1_Row_1_Middle_2658.png', 'Block_1C1_Row_1_Middle_2666.png', 'Block_1C1_Row_1_Middle_2670.png', 'Block_1C1_Row_1_Middle_723.png', 'Block_1C1_Row_1_Middle_733.png', 'Block_1C1_Row_1_Middle_738.png', 'Block_1C1_Row_1_Middle_748.png', 'Block_1C1_Row_1_Middle_758.png', 'Block_1C1_Row_1_Middle_763.png', 'Block_1C1_Row_1_Middle_773.png', 'Block_1C1_Row_1_Middle_778.png', 'Block_1C1_Row_1_Middle_788.png', 'Block_1C1_Row_1_Middle_818.png', 'Block_1C1_Row_1_Middle_833.png', 'Block_1C1_Row_1_Middle_843.png', 'Block_1C1_Row_1_Middle_853.png', 'Block_1C1_Row_1_Middle_858.png', 'Block_1C1_Row_1_Middle_863.png', 'Block_1C1_Row_1_Middle_873.png', 'Block_1C1_Row_1_Middle_878.png', 'Block_1C1_Row_1_Middle_888.png', 'Block_1C1_Row_1_Middle_903.png', 'Block_1C1_Row_1_Middle_913.png', 'Block_1C1_Row_1_Middle_918.png', 'Block_1C1_Row_1_Middle_928.png', 'Block_1C1_Row_1_Middle_938.png', 'Block_1C1_Row_1_Middle_948.png', 'Block_1C1_Row_1_Middle_958.png', 'Block_1C1_Row_1_Middle_963.png', 'Block_1C1_Row_1_Middle_988.png', 'Block_1C1_Row_1_Middle_993.png', 'Block_1C1_Row_1_Middle_998.png', 'Block_3_Row_1_Middle_1058.png', 'Block_3_Row_1_Middle_1088.png', 'Block_3_Row_1_Middle_1178.png', 'Block_3_Row_1_Middle_1193.png', 'Block_3_Row_1_Middle_1208.png', 'Block_3_Row_1_Middle_1238.png', 'Block_3_Row_1_Middle_1253.png', 'Block_3_Row_1_Middle_1283.png', 'Block_3_Row_1_Middle_1298.png', 'Block_3_Row_1_Middle_1313.png', 'Block_3_Row_1_Middle_1327.png', 'Block_3_Row_1_Middle_1341.png', 'Block_3_Row_1_Middle_1355.png', 'Block_3_Row_1_Middle_1383.png', 'Block_3_Row_1_Middle_1439.png', 'Block_3_Row_1_Middle_1453.png', 'Block_3_Row_1_Middle_1467.png', 'Block_3_Row_1_Middle_1551.png', 'Block_3_Row_1_Middle_1565.png', 'Block_3_Row_1_Middle_1579.png', 'Block_3_Row_1_Middle_1607.png', 'Block_3_Row_1_Middle_1635.png', 'Block_3_Row_1_Middle_1663.png', 'Block_3_Row_1_Middle_1677.png', 'Block_3_Row_1_Middle_1691.png', 'Block_3_Row_1_Middle_1719.png', 'Block_3_Row_1_Middle_1747.png', 'Block_3_Row_1_Middle_1775.png', 'Block_3_Row_1_Middle_1817.png', 'Block_3_Row_1_Middle_1845.png', 'Block_3_Row_1_Middle_1859.png', 'Block_3_Row_1_Middle_1901.png', 'Block_3_Row_1_Middle_1915.png', 'Block_3_Row_1_Middle_1929.png', 'Block_3_Row_1_Middle_1971.png', 'Block_3_Row_1_Middle_1985.png', 'Block_3_Row_1_Middle_1999.png', 'Block_3_Row_1_Middle_2013.png', 'Block_3_Row_1_Middle_2055.png', 'Block_3_Row_1_Middle_2097.png', 'Block_3_Row_1_Middle_2111.png', 'Block_3_Row_1_Middle_2153.png', 'Block_3_Row_1_Middle_2195.png', 'Block_3_Row_1_Middle_2223.png', 'Block_3_Row_1_Middle_2237.png', 'Block_3_Row_1_Middle_2251.png', 'Block_3_Row_1_Middle_2265.png', 'Block_3_Row_1_Middle_2321.png', 'Block_3_Row_1_Middle_2349.png', 'Block_3_Row_1_Middle_2363.png', 'Block_3_Row_1_Middle_2405.png', 'Block_3_Row_1_Middle_2419.png', 'Block_3_Row_1_Middle_2447.png', 'Block_3_Row_1_Middle_2461.png', 'Block_3_Row_1_Middle_2545.png', 'Block_3_Row_1_Middle_2573.png', 'Block_3_Row_1_Middle_2587.png', 'Block_3_Row_1_Middle_2601.png', 'Block_3_Row_1_Middle_2629.png', 'Block_3_Row_1_Middle_263.png', 'Block_3_Row_1_Middle_2643.png', 'Block_3_Row_1_Middle_2713.png', 'Block_3_Row_1_Middle_2727.png', 'Block_3_Row_1_Middle_2741.png', 'Block_3_Row_1_Middle_2755.png', 'Block_3_Row_1_Middle_2769.png', 'Block_3_Row_1_Middle_278.png', 'Block_3_Row_1_Middle_2825.png', 'Block_3_Row_1_Middle_2839.png', 'Block_3_Row_1_Middle_2853.png', 'Block_3_Row_1_Middle_2867.png', 'Block_3_Row_1_Middle_2895.png', 'Block_3_Row_1_Middle_2909.png', 'Block_3_Row_1_Middle_2923.png', 'Block_3_Row_1_Middle_293.png', 'Block_3_Row_1_Middle_2937.png', 'Block_3_Row_1_Middle_2951.png', 'Block_3_Row_1_Middle_2979.png', 'Block_3_Row_1_Middle_2993.png', 'Block_3_Row_1_Middle_3007.png', 'Block_3_Row_1_Middle_3021.png', 'Block_3_Row_1_Middle_3035.png', 'Block_3_Row_1_Middle_3049.png', 'Block_3_Row_1_Middle_308.png', 'Block_3_Row_1_Middle_3091.png', 'Block_3_Row_1_Middle_3105.png', 'Block_3_Row_1_Middle_3133.png', 'Block_3_Row_1_Middle_3147.png', 'Block_3_Row_1_Middle_3161.png', 'Block_3_Row_1_Middle_3175.png', 'Block_3_Row_1_Middle_323.png', 'Block_3_Row_1_Middle_353.png', 'Block_3_Row_1_Middle_3668.png', 'Block_3_Row_1_Middle_368.png', 'Block_3_Row_1_Middle_3713.png', 'Block_3_Row_1_Middle_3773.png', 'Block_3_Row_1_Middle_383.png', 'Block_3_Row_1_Middle_3863.png', 'Block_3_Row_1_Middle_3908.png', 'Block_3_Row_1_Middle_3923.png', 'Block_3_Row_1_Middle_3938.png', 'Block_3_Row_1_Middle_3953.png', 'Block_3_Row_1_Middle_398.png', 'Block_3_Row_1_Middle_3983.png', 'Block_3_Row_1_Middle_4013.png', 'Block_3_Row_1_Middle_4028.png', 'Block_3_Row_1_Middle_4058.png', 'Block_3_Row_1_Middle_4073.png', 'Block_3_Row_1_Middle_4103.png', 'Block_3_Row_1_Middle_4118.png', 'Block_3_Row_1_Middle_4148.png', 'Block_3_Row_1_Middle_4163.png', 'Block_3_Row_1_Middle_4178.png', 'Block_3_Row_1_Middle_4253.png', 'Block_3_Row_1_Middle_4283.png', 'Block_3_Row_1_Middle_4298.png', 'Block_3_Row_1_Middle_4313.png', 'Block_3_Row_1_Middle_4358.png', 'Block_3_Row_1_Middle_4373.png', 'Block_3_Row_1_Middle_4388.png', 'Block_3_Row_1_Middle_4403.png', 'Block_3_Row_1_Middle_4418.png', 'Block_3_Row_1_Middle_4463.png', 'Block_3_Row_1_Middle_4493.png', 'Block_3_Row_1_Middle_4523.png', 'Block_3_Row_1_Middle_4538.png', 'Block_3_Row_1_Middle_4553.png', 'Block_3_Row_1_Middle_4568.png', 'Block_3_Row_1_Middle_4598.png', 'Block_3_Row_1_Middle_4613.png', 'Block_3_Row_1_Middle_4628.png', 'Block_3_Row_1_Middle_4643.png', 'Block_3_Row_1_Middle_4688.png', 'Block_3_Row_1_Middle_4748.png', 'Block_3_Row_1_Middle_4793.png', 'Block_3_Row_1_Middle_4808.png', 'Block_3_Row_1_Middle_488.png', 'Block_3_Row_1_Middle_4898.png', 'Block_3_Row_1_Middle_4913.png', 'Block_3_Row_1_Middle_4958.png', 'Block_3_Row_1_Middle_4973.png', 'Block_3_Row_1_Middle_5018.png', 'Block_3_Row_1_Middle_5033.png', 'Block_3_Row_1_Middle_5093.png', 'Block_3_Row_1_Middle_5107.png', 'Block_3_Row_1_Middle_5149.png', 'Block_3_Row_1_Middle_5163.png', 'Block_3_Row_1_Middle_518.png', 'Block_3_Row_1_Middle_5205.png', 'Block_3_Row_1_Middle_5219.png', 'Block_3_Row_1_Middle_5289.png', 'Block_3_Row_1_Middle_533.png', 'Block_3_Row_1_Middle_5331.png', 'Block_3_Row_1_Middle_5345.png', 'Block_3_Row_1_Middle_5359.png', 'Block_3_Row_1_Middle_5373.png', 'Block_3_Row_1_Middle_5429.png', 'Block_3_Row_1_Middle_5443.png', 'Block_3_Row_1_Middle_5471.png', 'Block_3_Row_1_Middle_548.png', 'Block_3_Row_1_Middle_5485.png', 'Block_3_Row_1_Middle_5499.png', 'Block_3_Row_1_Middle_5513.png', 'Block_3_Row_1_Middle_5569.png', 'Block_3_Row_1_Middle_5625.png', 'Block_3_Row_1_Middle_5639.png', 'Block_3_Row_1_Middle_5695.png', 'Block_3_Row_1_Middle_5709.png', 'Block_3_Row_1_Middle_5737.png', 'Block_3_Row_1_Middle_5765 (1).png', 'Block_3_Row_1_Middle_5765.png', 'Block_3_Row_1_Middle_5779.png', 'Block_3_Row_1_Middle_5807.png', 'Block_3_Row_1_Middle_5821.png', 'Block_3_Row_1_Middle_5835.png', 'Block_3_Row_1_Middle_5849.png', 'Block_3_Row_1_Middle_5863.png', 'Block_3_Row_1_Middle_5891.png', 'Block_3_Row_1_Middle_5905.png', 'Block_3_Row_1_Middle_5933.png', 'Block_3_Row_1_Middle_6017.png', 'Block_3_Row_1_Middle_6045.png', 'Block_3_Row_1_Middle_6087.png', 'Block_3_Row_1_Middle_6101.png', 'Block_3_Row_1_Middle_6129.png', 'Block_3_Row_1_Middle_6143.png', 'Block_3_Row_1_Middle_6157.png', 'Block_3_Row_1_Middle_6171.png', 'Block_3_Row_1_Middle_6185.png', 'Block_3_Row_1_Middle_6199.png', 'Block_3_Row_1_Middle_6213.png', 'Block_3_Row_1_Middle_6227.png', 'Block_3_Row_1_Middle_623.png', 'Block_3_Row_1_Middle_6241.png', 'Block_3_Row_1_Middle_6255.png', 'Block_3_Row_1_Middle_6339.png', 'Block_3_Row_1_Middle_6395.png', 'Block_3_Row_1_Middle_6409.png', 'Block_3_Row_1_Middle_6437.png', 'Block_3_Row_1_Middle_6465.png', 'Block_3_Row_1_Middle_6507.png', 'Block_3_Row_1_Middle_6591.png', 'Block_3_Row_1_Middle_6605.png', 'Block_3_Row_1_Middle_6647.png', 'Block_3_Row_1_Middle_6661.png', 'Block_3_Row_1_Middle_6675.png', 'Block_3_Row_1_Middle_6689.png', 'Block_3_Row_1_Middle_6717.png', 'Block_3_Row_1_Middle_6745.png', 'Block_3_Row_1_Middle_6759.png', 'Block_3_Row_1_Middle_6773.png', 'Block_3_Row_1_Middle_6787.png', 'Block_3_Row_1_Middle_6801.png', 'Block_3_Row_1_Middle_6829.png', 'Block_3_Row_1_Middle_683.png', 'Block_3_Row_1_Middle_6843.png', 'Block_3_Row_1_Middle_6857.png', 'Block_3_Row_1_Middle_6899.png', 'Block_3_Row_1_Middle_698.png', 'Block_3_Row_1_Middle_7011.png', 'Block_3_Row_1_Middle_7025.png', 'Block_3_Row_1_Middle_7053.png', 'Block_3_Row_1_Middle_7067.png', 'Block_3_Row_1_Middle_7081.png', 'Block_3_Row_1_Middle_7095.png', 'Block_3_Row_1_Middle_7109.png', 'Block_3_Row_1_Middle_713.png', 'Block_3_Row_1_Middle_7137.png', 'Block_3_Row_1_Middle_7151.png', 'Block_3_Row_1_Middle_7165.png', 'Block_3_Row_1_Middle_728.png', 'Block_3_Row_1_Middle_743.png', 'Block_3_Row_1_Middle_833.png', 'Block_3_Row_1_Middle_848.png', 'Block_3_Row_1_Middle_863.png', 'Block_3_Row_1_Middle_878.png', 'Block_3_Row_1_Middle_908.png', 'Block_3_Row_1_Middle_953.png', 'Block_3_Row_1_Middle_968.png', 'Block_3_Row_1_Middle_983.png', 'Block_3_Row_1_Middle_998.png', 'Block_5E1_Row_1_Middle_1007.png', 'Block_5E1_Row_1_Middle_1063.png', 'Block_5E1_Row_1_Middle_1079.png', 'Block_5E1_Row_1_Middle_1087.png', 'Block_5E1_Row_1_Middle_1095.png', 'Block_5E1_Row_1_Middle_1143.png', 'Block_5E1_Row_1_Middle_1175.png', 'Block_5E1_Row_1_Middle_1183.png', 'Block_5E1_Row_1_Middle_1199.png', 'Block_5E1_Row_1_Middle_1231.png', 'Block_5E1_Row_1_Middle_1247.png', 'Block_5E1_Row_1_Middle_1279.png', 'Block_5E1_Row_1_Middle_1319.png', 'Block_5E1_Row_1_Middle_1327.png', 'Block_5E1_Row_1_Middle_1351.png', 'Block_5E1_Row_1_Middle_1367.png', 'Block_5E1_Row_1_Middle_1383.png', 'Block_5E1_Row_1_Middle_1399.png', 'Block_5E1_Row_1_Middle_1415.png', 'Block_5E1_Row_1_Middle_1447.png', 'Block_5E1_Row_1_Middle_1455.png', 'Block_5E1_Row_1_Middle_1495.png', 'Block_5E1_Row_1_Middle_1503.png', 'Block_5E1_Row_1_Middle_1511.png', 'Block_5E1_Row_1_Middle_1535.png', 'Block_5E1_Row_1_Middle_1543.png', 'Block_5E1_Row_1_Middle_1583.png', 'Block_5E1_Row_1_Middle_1591.png', 'Block_5E1_Row_1_Middle_1599.png', 'Block_5E1_Row_1_Middle_1615.png', 'Block_5E1_Row_1_Middle_1647.png', 'Block_5E1_Row_1_Middle_1695.png', 'Block_5E1_Row_1_Middle_1719.png', 'Block_5E1_Row_1_Middle_1735.png', 'Block_5E1_Row_1_Middle_1751.png', 'Block_5E1_Row_1_Middle_1775.png', 'Block_5E1_Row_1_Middle_1783.png', 'Block_5E1_Row_1_Middle_1815.png', 'Block_5E1_Row_1_Middle_1831.png', 'Block_5E1_Row_1_Middle_1847.png', 'Block_5E1_Row_1_Middle_1855.png', 'Block_5E1_Row_1_Middle_1863.png', 'Block_5E1_Row_1_Middle_359.png', 'Block_5E1_Row_1_Middle_375.png', 'Block_5E1_Row_1_Middle_391.png', 'Block_5E1_Row_1_Middle_407.png', 'Block_5E1_Row_1_Middle_439.png', 'Block_5E1_Row_1_Middle_455.png', 'Block_5E1_Row_1_Middle_487.png', 'Block_5E1_Row_1_Middle_519.png', 'Block_5E1_Row_1_Middle_527.png', 'Block_5E1_Row_1_Middle_535.png', 'Block_5E1_Row_1_Middle_583.png', 'Block_5E1_Row_1_Middle_647.png', 'Block_5E1_Row_1_Middle_655.png', 'Block_5E1_Row_1_Middle_671.png', 'Block_5E1_Row_1_Middle_695.png', 'Block_5E1_Row_1_Middle_711.png', 'Block_5E1_Row_1_Middle_775.png', 'Block_5E1_Row_1_Middle_783.png', 'Block_5E1_Row_1_Middle_791.png', 'Block_5E1_Row_1_Middle_807.png', 'Block_5E1_Row_1_Middle_815.png', 'Block_5E1_Row_1_Middle_863.png', 'Block_5E1_Row_1_Middle_879.png', 'Block_5E1_Row_1_Middle_919.png', 'Block_5E1_Row_1_Middle_943.png', 'Block_5E1_Row_1_Middle_975.png', 'Block_5E1_Row_1_Middle_999.png']\n",
            "Labels: ['Block_1C1_Row_1_Middle_1003_instanceIds.txt', 'Block_1C1_Row_1_Middle_1013_instanceIds.txt', 'Block_1C1_Row_1_Middle_1018_instanceIds.txt', 'Block_1C1_Row_1_Middle_1023_instanceIds.txt', 'Block_1C1_Row_1_Middle_1048_instanceIds.txt', 'Block_1C1_Row_1_Middle_1058_instanceIds.txt', 'Block_1C1_Row_1_Middle_1063_instanceIds.txt', 'Block_1C1_Row_1_Middle_1068_instanceIds.txt', 'Block_1C1_Row_1_Middle_1073_instanceIds.txt', 'Block_1C1_Row_1_Middle_1078_instanceIds.txt', 'Block_1C1_Row_1_Middle_1083_instanceIds.txt', 'Block_1C1_Row_1_Middle_1103_instanceIds.txt', 'Block_1C1_Row_1_Middle_1108_instanceIds.txt', 'Block_1C1_Row_1_Middle_1113_instanceIds.txt', 'Block_1C1_Row_1_Middle_1133_instanceIds.txt', 'Block_1C1_Row_1_Middle_1138_instanceIds.txt', 'Block_1C1_Row_1_Middle_1143_instanceIds.txt', 'Block_1C1_Row_1_Middle_1148_instanceIds.txt', 'Block_1C1_Row_1_Middle_1153_instanceIds.txt', 'Block_1C1_Row_1_Middle_1158_instanceIds.txt', 'Block_1C1_Row_1_Middle_1163_instanceIds.txt', 'Block_1C1_Row_1_Middle_1173_instanceIds.txt', 'Block_1C1_Row_1_Middle_1178_instanceIds.txt', 'Block_1C1_Row_1_Middle_1183_instanceIds.txt', 'Block_1C1_Row_1_Middle_1213_instanceIds.txt', 'Block_1C1_Row_1_Middle_1218_instanceIds.txt', 'Block_1C1_Row_1_Middle_1238_instanceIds.txt', 'Block_1C1_Row_1_Middle_1243_instanceIds.txt', 'Block_1C1_Row_1_Middle_1248_instanceIds.txt', 'Block_1C1_Row_1_Middle_1253_instanceIds.txt', 'Block_1C1_Row_1_Middle_1263_instanceIds.txt', 'Block_1C1_Row_1_Middle_1273_instanceIds.txt', 'Block_1C1_Row_1_Middle_1278_instanceIds.txt', 'Block_1C1_Row_1_Middle_1283_instanceIds.txt', 'Block_1C1_Row_1_Middle_1303_instanceIds.txt', 'Block_1C1_Row_1_Middle_1308_instanceIds.txt', 'Block_1C1_Row_1_Middle_1333_instanceIds.txt', 'Block_1C1_Row_1_Middle_1338_instanceIds.txt', 'Block_1C1_Row_1_Middle_1353_instanceIds.txt', 'Block_1C1_Row_1_Middle_1358_instanceIds.txt', 'Block_1C1_Row_1_Middle_1368_instanceIds.txt', 'Block_1C1_Row_1_Middle_1373_instanceIds.txt', 'Block_1C1_Row_1_Middle_1378_instanceIds.txt', 'Block_1C1_Row_1_Middle_1383_instanceIds.txt', 'Block_1C1_Row_1_Middle_1403_instanceIds.txt', 'Block_1C1_Row_1_Middle_1408_instanceIds.txt', 'Block_1C1_Row_1_Middle_1413_instanceIds.txt', 'Block_1C1_Row_1_Middle_1443_instanceIds.txt', 'Block_1C1_Row_1_Middle_1448_instanceIds.txt', 'Block_1C1_Row_1_Middle_1453_instanceIds.txt', 'Block_1C1_Row_1_Middle_1458_instanceIds.txt', 'Block_1C1_Row_1_Middle_1473_instanceIds.txt', 'Block_1C1_Row_1_Middle_1482_instanceIds.txt', 'Block_1C1_Row_1_Middle_1514_instanceIds.txt', 'Block_1C1_Row_1_Middle_1526_instanceIds.txt', 'Block_1C1_Row_1_Middle_1542_instanceIds.txt', 'Block_1C1_Row_1_Middle_1546_instanceIds.txt', 'Block_1C1_Row_1_Middle_1554_instanceIds.txt', 'Block_1C1_Row_1_Middle_1570_instanceIds.txt', 'Block_1C1_Row_1_Middle_1578_instanceIds.txt', 'Block_1C1_Row_1_Middle_1586_instanceIds.txt', 'Block_1C1_Row_1_Middle_1602_instanceIds.txt', 'Block_1C1_Row_1_Middle_1606_instanceIds.txt', 'Block_1C1_Row_1_Middle_1610_instanceIds.txt', 'Block_1C1_Row_1_Middle_1614_instanceIds.txt', 'Block_1C1_Row_1_Middle_1618_instanceIds.txt', 'Block_1C1_Row_1_Middle_1630_instanceIds.txt', 'Block_1C1_Row_1_Middle_1638_instanceIds.txt', 'Block_1C1_Row_1_Middle_1642_instanceIds.txt', 'Block_1C1_Row_1_Middle_1650_instanceIds.txt', 'Block_1C1_Row_1_Middle_1658_instanceIds.txt', 'Block_1C1_Row_1_Middle_1666_instanceIds.txt', 'Block_1C1_Row_1_Middle_1682_instanceIds.txt', 'Block_1C1_Row_1_Middle_1686_instanceIds.txt', 'Block_1C1_Row_1_Middle_1690_instanceIds.txt', 'Block_1C1_Row_1_Middle_1694_instanceIds.txt', 'Block_1C1_Row_1_Middle_1698_instanceIds.txt', 'Block_1C1_Row_1_Middle_1706_instanceIds.txt', 'Block_1C1_Row_1_Middle_1710_instanceIds.txt', 'Block_1C1_Row_1_Middle_1714_instanceIds.txt', 'Block_1C1_Row_1_Middle_1718_instanceIds.txt', 'Block_1C1_Row_1_Middle_1722_instanceIds.txt', 'Block_1C1_Row_1_Middle_1730_instanceIds.txt', 'Block_1C1_Row_1_Middle_1738_instanceIds.txt', 'Block_1C1_Row_1_Middle_1746_instanceIds.txt', 'Block_1C1_Row_1_Middle_1750_instanceIds.txt', 'Block_1C1_Row_1_Middle_1754_instanceIds.txt', 'Block_1C1_Row_1_Middle_1762_instanceIds.txt', 'Block_1C1_Row_1_Middle_1766_instanceIds.txt', 'Block_1C1_Row_1_Middle_1770_instanceIds.txt', 'Block_1C1_Row_1_Middle_1782_instanceIds.txt', 'Block_1C1_Row_1_Middle_1786_instanceIds.txt', 'Block_1C1_Row_1_Middle_1790_instanceIds.txt', 'Block_1C1_Row_1_Middle_1814_instanceIds.txt', 'Block_1C1_Row_1_Middle_1826_instanceIds.txt', 'Block_1C1_Row_1_Middle_1838_instanceIds.txt', 'Block_1C1_Row_1_Middle_1846_instanceIds.txt', 'Block_1C1_Row_1_Middle_1850_instanceIds.txt', 'Block_1C1_Row_1_Middle_1854_instanceIds.txt', 'Block_1C1_Row_1_Middle_1858_instanceIds.txt', 'Block_1C1_Row_1_Middle_1862_instanceIds.txt', 'Block_1C1_Row_1_Middle_1878_instanceIds.txt', 'Block_1C1_Row_1_Middle_1890_instanceIds.txt', 'Block_1C1_Row_1_Middle_1894_instanceIds.txt', 'Block_1C1_Row_1_Middle_1898_instanceIds.txt', 'Block_1C1_Row_1_Middle_1906_instanceIds.txt', 'Block_1C1_Row_1_Middle_1914_instanceIds.txt', 'Block_1C1_Row_1_Middle_1918_instanceIds.txt', 'Block_1C1_Row_1_Middle_1922_instanceIds.txt', 'Block_1C1_Row_1_Middle_1930_instanceIds.txt', 'Block_1C1_Row_1_Middle_1938_instanceIds.txt', 'Block_1C1_Row_1_Middle_1946_instanceIds.txt', 'Block_1C1_Row_1_Middle_1954_instanceIds.txt', 'Block_1C1_Row_1_Middle_1958_instanceIds.txt', 'Block_1C1_Row_1_Middle_1962_instanceIds.txt', 'Block_1C1_Row_1_Middle_1970_instanceIds.txt', 'Block_1C1_Row_1_Middle_1974_instanceIds.txt', 'Block_1C1_Row_1_Middle_1982_instanceIds.txt', 'Block_1C1_Row_1_Middle_1986_instanceIds.txt', 'Block_1C1_Row_1_Middle_1990_instanceIds.txt', 'Block_1C1_Row_1_Middle_2002_instanceIds.txt', 'Block_1C1_Row_1_Middle_2006_instanceIds.txt', 'Block_1C1_Row_1_Middle_2010_instanceIds.txt', 'Block_1C1_Row_1_Middle_2018_instanceIds.txt', 'Block_1C1_Row_1_Middle_2022_instanceIds.txt', 'Block_1C1_Row_1_Middle_2030_instanceIds.txt', 'Block_1C1_Row_1_Middle_2050_instanceIds.txt', 'Block_1C1_Row_1_Middle_2054_instanceIds.txt', 'Block_1C1_Row_1_Middle_2070_instanceIds.txt', 'Block_1C1_Row_1_Middle_2078_instanceIds.txt', 'Block_1C1_Row_1_Middle_2082_instanceIds.txt', 'Block_1C1_Row_1_Middle_2086_instanceIds.txt', 'Block_1C1_Row_1_Middle_2098_instanceIds.txt', 'Block_1C1_Row_1_Middle_2102_instanceIds.txt', 'Block_1C1_Row_1_Middle_2110_instanceIds.txt', 'Block_1C1_Row_1_Middle_2118_instanceIds.txt', 'Block_1C1_Row_1_Middle_2122_instanceIds.txt', 'Block_1C1_Row_1_Middle_2134_instanceIds.txt', 'Block_1C1_Row_1_Middle_2138_instanceIds.txt', 'Block_1C1_Row_1_Middle_2142_instanceIds.txt', 'Block_1C1_Row_1_Middle_2146_instanceIds.txt', 'Block_1C1_Row_1_Middle_2154_instanceIds.txt', 'Block_1C1_Row_1_Middle_2166_instanceIds.txt', 'Block_1C1_Row_1_Middle_2174_instanceIds.txt', 'Block_1C1_Row_1_Middle_2182_instanceIds.txt', 'Block_1C1_Row_1_Middle_2186_instanceIds.txt', 'Block_1C1_Row_1_Middle_2190_instanceIds.txt', 'Block_1C1_Row_1_Middle_2198_instanceIds.txt', 'Block_1C1_Row_1_Middle_2202_instanceIds.txt', 'Block_1C1_Row_1_Middle_2218_instanceIds.txt', 'Block_1C1_Row_1_Middle_2226_instanceIds.txt', 'Block_1C1_Row_1_Middle_2230_instanceIds.txt', 'Block_1C1_Row_1_Middle_2234_instanceIds.txt', 'Block_1C1_Row_1_Middle_2250_instanceIds.txt', 'Block_1C1_Row_1_Middle_2254_instanceIds.txt', 'Block_1C1_Row_1_Middle_2258_instanceIds.txt', 'Block_1C1_Row_1_Middle_2262_instanceIds.txt', 'Block_1C1_Row_1_Middle_2270_instanceIds.txt', 'Block_1C1_Row_1_Middle_2278_instanceIds.txt', 'Block_1C1_Row_1_Middle_2282_instanceIds.txt', 'Block_1C1_Row_1_Middle_2286_instanceIds.txt', 'Block_1C1_Row_1_Middle_2290_instanceIds.txt', 'Block_1C1_Row_1_Middle_2306_instanceIds.txt', 'Block_1C1_Row_1_Middle_2314_instanceIds.txt', 'Block_1C1_Row_1_Middle_2318_instanceIds.txt', 'Block_1C1_Row_1_Middle_2322_instanceIds.txt', 'Block_1C1_Row_1_Middle_2330_instanceIds.txt', 'Block_1C1_Row_1_Middle_2338_instanceIds.txt', 'Block_1C1_Row_1_Middle_2342_instanceIds.txt', 'Block_1C1_Row_1_Middle_2366_instanceIds.txt', 'Block_1C1_Row_1_Middle_2370_instanceIds.txt', 'Block_1C1_Row_1_Middle_2374_instanceIds.txt', 'Block_1C1_Row_1_Middle_2378_instanceIds.txt', 'Block_1C1_Row_1_Middle_2394_instanceIds.txt', 'Block_1C1_Row_1_Middle_2398_instanceIds.txt', 'Block_1C1_Row_1_Middle_2402_instanceIds.txt', 'Block_1C1_Row_1_Middle_2406_instanceIds.txt', 'Block_1C1_Row_1_Middle_2410_instanceIds.txt', 'Block_1C1_Row_1_Middle_2418_instanceIds.txt', 'Block_1C1_Row_1_Middle_2426_instanceIds.txt', 'Block_1C1_Row_1_Middle_2430_instanceIds.txt', 'Block_1C1_Row_1_Middle_2438_instanceIds.txt', 'Block_1C1_Row_1_Middle_2442_instanceIds.txt', 'Block_1C1_Row_1_Middle_2446_instanceIds.txt', 'Block_1C1_Row_1_Middle_2450_instanceIds.txt', 'Block_1C1_Row_1_Middle_2458_instanceIds.txt', 'Block_1C1_Row_1_Middle_2462_instanceIds.txt', 'Block_1C1_Row_1_Middle_2466_instanceIds.txt', 'Block_1C1_Row_1_Middle_2470_instanceIds.txt', 'Block_1C1_Row_1_Middle_2474_instanceIds.txt', 'Block_1C1_Row_1_Middle_2478_instanceIds.txt', 'Block_1C1_Row_1_Middle_2482_instanceIds.txt', 'Block_1C1_Row_1_Middle_2498_instanceIds.txt', 'Block_1C1_Row_1_Middle_2506_instanceIds.txt', 'Block_1C1_Row_1_Middle_2518_instanceIds.txt', 'Block_1C1_Row_1_Middle_2530_instanceIds.txt', 'Block_1C1_Row_1_Middle_2542_instanceIds.txt', 'Block_1C1_Row_1_Middle_2562_instanceIds.txt', 'Block_1C1_Row_1_Middle_2566_instanceIds.txt', 'Block_1C1_Row_1_Middle_2570_instanceIds.txt', 'Block_1C1_Row_1_Middle_2574_instanceIds.txt', 'Block_1C1_Row_1_Middle_2578_instanceIds.txt', 'Block_1C1_Row_1_Middle_2582_instanceIds.txt', 'Block_1C1_Row_1_Middle_2618_instanceIds.txt', 'Block_1C1_Row_1_Middle_2622_instanceIds.txt', 'Block_1C1_Row_1_Middle_2630_instanceIds.txt', 'Block_1C1_Row_1_Middle_2650_instanceIds.txt', 'Block_1C1_Row_1_Middle_2654_instanceIds.txt', 'Block_1C1_Row_1_Middle_2658_instanceIds.txt', 'Block_1C1_Row_1_Middle_2666_instanceIds.txt', 'Block_1C1_Row_1_Middle_2670_instanceIds.txt', 'Block_1C1_Row_1_Middle_723_instanceIds.txt', 'Block_1C1_Row_1_Middle_733_instanceIds.txt', 'Block_1C1_Row_1_Middle_738_instanceIds.txt', 'Block_1C1_Row_1_Middle_748_instanceIds.txt', 'Block_1C1_Row_1_Middle_758_instanceIds.txt', 'Block_1C1_Row_1_Middle_763_instanceIds.txt', 'Block_1C1_Row_1_Middle_773_instanceIds.txt', 'Block_1C1_Row_1_Middle_778_instanceIds.txt', 'Block_1C1_Row_1_Middle_788_instanceIds.txt', 'Block_1C1_Row_1_Middle_818_instanceIds.txt', 'Block_1C1_Row_1_Middle_833_instanceIds.txt', 'Block_1C1_Row_1_Middle_843_instanceIds.txt', 'Block_1C1_Row_1_Middle_853_instanceIds.txt', 'Block_1C1_Row_1_Middle_858_instanceIds.txt', 'Block_1C1_Row_1_Middle_863_instanceIds.txt', 'Block_1C1_Row_1_Middle_873_instanceIds.txt', 'Block_1C1_Row_1_Middle_878_instanceIds.txt', 'Block_1C1_Row_1_Middle_888_instanceIds.txt', 'Block_1C1_Row_1_Middle_903_instanceIds.txt', 'Block_1C1_Row_1_Middle_913_instanceIds.txt', 'Block_1C1_Row_1_Middle_918_instanceIds.txt', 'Block_1C1_Row_1_Middle_928_instanceIds.txt', 'Block_1C1_Row_1_Middle_938_instanceIds.txt', 'Block_1C1_Row_1_Middle_948_instanceIds.txt', 'Block_1C1_Row_1_Middle_958_instanceIds.txt', 'Block_1C1_Row_1_Middle_963_instanceIds.txt', 'Block_1C1_Row_1_Middle_988_instanceIds.txt', 'Block_1C1_Row_1_Middle_993_instanceIds.txt', 'Block_1C1_Row_1_Middle_998_instanceIds.txt', 'Block_3_Row_1_Middle_1058_instanceIds.txt', 'Block_3_Row_1_Middle_1088_instanceIds.txt', 'Block_3_Row_1_Middle_1178_instanceIds.txt', 'Block_3_Row_1_Middle_1193_instanceIds.txt', 'Block_3_Row_1_Middle_1208_instanceIds.txt', 'Block_3_Row_1_Middle_1238_instanceIds.txt', 'Block_3_Row_1_Middle_1253_instanceIds.txt', 'Block_3_Row_1_Middle_1283_instanceIds.txt', 'Block_3_Row_1_Middle_1298_instanceIds.txt', 'Block_3_Row_1_Middle_1313_instanceIds.txt', 'Block_3_Row_1_Middle_1327_instanceIds.txt', 'Block_3_Row_1_Middle_1341_instanceIds.txt', 'Block_3_Row_1_Middle_1355_instanceIds.txt', 'Block_3_Row_1_Middle_1383_instanceIds.txt', 'Block_3_Row_1_Middle_1439_instanceIds.txt', 'Block_3_Row_1_Middle_1453_instanceIds.txt', 'Block_3_Row_1_Middle_1467_instanceIds.txt', 'Block_3_Row_1_Middle_1551_instanceIds.txt', 'Block_3_Row_1_Middle_1565_instanceIds.txt', 'Block_3_Row_1_Middle_1579_instanceIds.txt', 'Block_3_Row_1_Middle_1607_instanceIds.txt', 'Block_3_Row_1_Middle_1635_instanceIds.txt', 'Block_3_Row_1_Middle_1663_instanceIds.txt', 'Block_3_Row_1_Middle_1677_instanceIds.txt', 'Block_3_Row_1_Middle_1691_instanceIds.txt', 'Block_3_Row_1_Middle_1719_instanceIds.txt', 'Block_3_Row_1_Middle_1747_instanceIds.txt', 'Block_3_Row_1_Middle_1775_instanceIds.txt', 'Block_3_Row_1_Middle_1817_instanceIds.txt', 'Block_3_Row_1_Middle_1845_instanceIds.txt', 'Block_3_Row_1_Middle_1859_instanceIds.txt', 'Block_3_Row_1_Middle_1901_instanceIds.txt', 'Block_3_Row_1_Middle_1915_instanceIds.txt', 'Block_3_Row_1_Middle_1929_instanceIds.txt', 'Block_3_Row_1_Middle_1971_instanceIds.txt', 'Block_3_Row_1_Middle_1985_instanceIds.txt', 'Block_3_Row_1_Middle_1999_instanceIds.txt', 'Block_3_Row_1_Middle_2013_instanceIds.txt', 'Block_3_Row_1_Middle_2055_instanceIds.txt', 'Block_3_Row_1_Middle_2097_instanceIds.txt', 'Block_3_Row_1_Middle_2111_instanceIds.txt', 'Block_3_Row_1_Middle_2153_instanceIds.txt', 'Block_3_Row_1_Middle_2195_instanceIds.txt', 'Block_3_Row_1_Middle_2223_instanceIds.txt', 'Block_3_Row_1_Middle_2237_instanceIds.txt', 'Block_3_Row_1_Middle_2251_instanceIds.txt', 'Block_3_Row_1_Middle_2265_instanceIds.txt', 'Block_3_Row_1_Middle_2321_instanceIds.txt', 'Block_3_Row_1_Middle_2349_instanceIds.txt', 'Block_3_Row_1_Middle_2363_instanceIds.txt', 'Block_3_Row_1_Middle_2405_instanceIds.txt', 'Block_3_Row_1_Middle_2419_instanceIds.txt', 'Block_3_Row_1_Middle_2447_instanceIds.txt', 'Block_3_Row_1_Middle_2461_instanceIds.txt', 'Block_3_Row_1_Middle_2545_instanceIds.txt', 'Block_3_Row_1_Middle_2573_instanceIds.txt', 'Block_3_Row_1_Middle_2587_instanceIds.txt', 'Block_3_Row_1_Middle_2601_instanceIds.txt', 'Block_3_Row_1_Middle_2629_instanceIds.txt', 'Block_3_Row_1_Middle_263_instanceIds.txt', 'Block_3_Row_1_Middle_2643_instanceIds.txt', 'Block_3_Row_1_Middle_2713_instanceIds.txt', 'Block_3_Row_1_Middle_2727_instanceIds.txt', 'Block_3_Row_1_Middle_2741_instanceIds.txt', 'Block_3_Row_1_Middle_2755_instanceIds.txt', 'Block_3_Row_1_Middle_2769_instanceIds.txt', 'Block_3_Row_1_Middle_278_instanceIds.txt', 'Block_3_Row_1_Middle_2825_instanceIds.txt', 'Block_3_Row_1_Middle_2839_instanceIds.txt', 'Block_3_Row_1_Middle_2853_instanceIds.txt', 'Block_3_Row_1_Middle_2867_instanceIds.txt', 'Block_3_Row_1_Middle_2895_instanceIds.txt', 'Block_3_Row_1_Middle_2909_instanceIds.txt', 'Block_3_Row_1_Middle_2923_instanceIds.txt', 'Block_3_Row_1_Middle_2937_instanceIds.txt', 'Block_3_Row_1_Middle_293_instanceIds.txt', 'Block_3_Row_1_Middle_2951_instanceIds.txt', 'Block_3_Row_1_Middle_2979_instanceIds.txt', 'Block_3_Row_1_Middle_2993_instanceIds.txt', 'Block_3_Row_1_Middle_3007_instanceIds.txt', 'Block_3_Row_1_Middle_3021_instanceIds.txt', 'Block_3_Row_1_Middle_3035_instanceIds.txt', 'Block_3_Row_1_Middle_3049_instanceIds.txt', 'Block_3_Row_1_Middle_308_instanceIds.txt', 'Block_3_Row_1_Middle_3091_instanceIds.txt', 'Block_3_Row_1_Middle_3105_instanceIds.txt', 'Block_3_Row_1_Middle_3133_instanceIds.txt', 'Block_3_Row_1_Middle_3147_instanceIds.txt', 'Block_3_Row_1_Middle_3161_instanceIds.txt', 'Block_3_Row_1_Middle_3175_instanceIds.txt', 'Block_3_Row_1_Middle_323_instanceIds.txt', 'Block_3_Row_1_Middle_353_instanceIds.txt', 'Block_3_Row_1_Middle_3668_instanceIds.txt', 'Block_3_Row_1_Middle_368_instanceIds.txt', 'Block_3_Row_1_Middle_3713_instanceIds.txt', 'Block_3_Row_1_Middle_3773_instanceIds.txt', 'Block_3_Row_1_Middle_383_instanceIds.txt', 'Block_3_Row_1_Middle_3863_instanceIds.txt', 'Block_3_Row_1_Middle_3908_instanceIds.txt', 'Block_3_Row_1_Middle_3923_instanceIds.txt', 'Block_3_Row_1_Middle_3938_instanceIds.txt', 'Block_3_Row_1_Middle_3953_instanceIds.txt', 'Block_3_Row_1_Middle_3983_instanceIds.txt', 'Block_3_Row_1_Middle_398_instanceIds.txt', 'Block_3_Row_1_Middle_4013_instanceIds.txt', 'Block_3_Row_1_Middle_4028_instanceIds.txt', 'Block_3_Row_1_Middle_4058_instanceIds.txt', 'Block_3_Row_1_Middle_4073_instanceIds.txt', 'Block_3_Row_1_Middle_4103_instanceIds.txt', 'Block_3_Row_1_Middle_4118_instanceIds.txt', 'Block_3_Row_1_Middle_4148_instanceIds.txt', 'Block_3_Row_1_Middle_4163_instanceIds.txt', 'Block_3_Row_1_Middle_4178_instanceIds.txt', 'Block_3_Row_1_Middle_4253_instanceIds.txt', 'Block_3_Row_1_Middle_4283_instanceIds.txt', 'Block_3_Row_1_Middle_4298_instanceIds.txt', 'Block_3_Row_1_Middle_4313_instanceIds.txt', 'Block_3_Row_1_Middle_4358_instanceIds.txt', 'Block_3_Row_1_Middle_4373_instanceIds.txt', 'Block_3_Row_1_Middle_4388_instanceIds.txt', 'Block_3_Row_1_Middle_4403_instanceIds.txt', 'Block_3_Row_1_Middle_4418_instanceIds.txt', 'Block_3_Row_1_Middle_4463_instanceIds.txt', 'Block_3_Row_1_Middle_4493_instanceIds.txt', 'Block_3_Row_1_Middle_4523_instanceIds.txt', 'Block_3_Row_1_Middle_4538_instanceIds.txt', 'Block_3_Row_1_Middle_4553_instanceIds.txt', 'Block_3_Row_1_Middle_4568_instanceIds.txt', 'Block_3_Row_1_Middle_4598_instanceIds.txt', 'Block_3_Row_1_Middle_4613_instanceIds.txt', 'Block_3_Row_1_Middle_4628_instanceIds.txt', 'Block_3_Row_1_Middle_4643_instanceIds.txt', 'Block_3_Row_1_Middle_4688_instanceIds.txt', 'Block_3_Row_1_Middle_4748_instanceIds.txt', 'Block_3_Row_1_Middle_4793_instanceIds.txt', 'Block_3_Row_1_Middle_4808_instanceIds.txt', 'Block_3_Row_1_Middle_488_instanceIds.txt', 'Block_3_Row_1_Middle_4898_instanceIds.txt', 'Block_3_Row_1_Middle_4913_instanceIds.txt', 'Block_3_Row_1_Middle_4958_instanceIds.txt', 'Block_3_Row_1_Middle_4973_instanceIds.txt', 'Block_3_Row_1_Middle_5018_instanceIds.txt', 'Block_3_Row_1_Middle_5033_instanceIds.txt', 'Block_3_Row_1_Middle_5093_instanceIds.txt', 'Block_3_Row_1_Middle_5107_instanceIds.txt', 'Block_3_Row_1_Middle_5149_instanceIds.txt', 'Block_3_Row_1_Middle_5163_instanceIds.txt', 'Block_3_Row_1_Middle_518_instanceIds.txt', 'Block_3_Row_1_Middle_5205_instanceIds.txt', 'Block_3_Row_1_Middle_5219_instanceIds.txt', 'Block_3_Row_1_Middle_5289_instanceIds.txt', 'Block_3_Row_1_Middle_5331_instanceIds.txt', 'Block_3_Row_1_Middle_533_instanceIds.txt', 'Block_3_Row_1_Middle_5345_instanceIds.txt', 'Block_3_Row_1_Middle_5359_instanceIds.txt', 'Block_3_Row_1_Middle_5373_instanceIds.txt', 'Block_3_Row_1_Middle_5429_instanceIds.txt', 'Block_3_Row_1_Middle_5443_instanceIds.txt', 'Block_3_Row_1_Middle_5471_instanceIds.txt', 'Block_3_Row_1_Middle_5485_instanceIds.txt', 'Block_3_Row_1_Middle_548_instanceIds.txt', 'Block_3_Row_1_Middle_5499_instanceIds.txt', 'Block_3_Row_1_Middle_5513_instanceIds.txt', 'Block_3_Row_1_Middle_5569_instanceIds.txt', 'Block_3_Row_1_Middle_5625_instanceIds.txt', 'Block_3_Row_1_Middle_5639_instanceIds.txt', 'Block_3_Row_1_Middle_5695_instanceIds.txt', 'Block_3_Row_1_Middle_5709_instanceIds.txt', 'Block_3_Row_1_Middle_5737_instanceIds.txt', 'Block_3_Row_1_Middle_5765_instanceIds.txt', 'Block_3_Row_1_Middle_5779_instanceIds.txt', 'Block_3_Row_1_Middle_5807_instanceIds.txt', 'Block_3_Row_1_Middle_5821_instanceIds.txt', 'Block_3_Row_1_Middle_5835_instanceIds.txt', 'Block_3_Row_1_Middle_5849_instanceIds.txt', 'Block_3_Row_1_Middle_5863_instanceIds.txt', 'Block_3_Row_1_Middle_5891_instanceIds.txt', 'Block_3_Row_1_Middle_5905_instanceIds.txt', 'Block_3_Row_1_Middle_5933_instanceIds.txt', 'Block_3_Row_1_Middle_6017_instanceIds.txt', 'Block_3_Row_1_Middle_6045_instanceIds.txt', 'Block_3_Row_1_Middle_6087_instanceIds.txt', 'Block_3_Row_1_Middle_6101_instanceIds.txt', 'Block_3_Row_1_Middle_6129_instanceIds.txt', 'Block_3_Row_1_Middle_6143_instanceIds.txt', 'Block_3_Row_1_Middle_6157_instanceIds.txt', 'Block_3_Row_1_Middle_6171_instanceIds.txt', 'Block_3_Row_1_Middle_6185_instanceIds.txt', 'Block_3_Row_1_Middle_6199_instanceIds.txt', 'Block_3_Row_1_Middle_6213_instanceIds.txt', 'Block_3_Row_1_Middle_6227_instanceIds.txt', 'Block_3_Row_1_Middle_623_instanceIds.txt', 'Block_3_Row_1_Middle_6241_instanceIds.txt', 'Block_3_Row_1_Middle_6255_instanceIds.txt', 'Block_3_Row_1_Middle_6339_instanceIds.txt', 'Block_3_Row_1_Middle_6395_instanceIds.txt', 'Block_3_Row_1_Middle_6409_instanceIds.txt', 'Block_3_Row_1_Middle_6437_instanceIds.txt', 'Block_3_Row_1_Middle_6465_instanceIds.txt', 'Block_3_Row_1_Middle_6507_instanceIds.txt', 'Block_3_Row_1_Middle_6591_instanceIds.txt', 'Block_3_Row_1_Middle_6605_instanceIds.txt', 'Block_3_Row_1_Middle_6647_instanceIds.txt', 'Block_3_Row_1_Middle_6661_instanceIds.txt', 'Block_3_Row_1_Middle_6675_instanceIds.txt', 'Block_3_Row_1_Middle_6689_instanceIds.txt', 'Block_3_Row_1_Middle_6717_instanceIds.txt', 'Block_3_Row_1_Middle_6745_instanceIds.txt', 'Block_3_Row_1_Middle_6759_instanceIds.txt', 'Block_3_Row_1_Middle_6773_instanceIds.txt', 'Block_3_Row_1_Middle_6787_instanceIds.txt', 'Block_3_Row_1_Middle_6801_instanceIds.txt', 'Block_3_Row_1_Middle_6829_instanceIds.txt', 'Block_3_Row_1_Middle_683_instanceIds.txt', 'Block_3_Row_1_Middle_6843_instanceIds.txt', 'Block_3_Row_1_Middle_6857_instanceIds.txt', 'Block_3_Row_1_Middle_6899_instanceIds.txt', 'Block_3_Row_1_Middle_698_instanceIds.txt', 'Block_3_Row_1_Middle_7011_instanceIds.txt', 'Block_3_Row_1_Middle_7025_instanceIds.txt', 'Block_3_Row_1_Middle_7053_instanceIds.txt', 'Block_3_Row_1_Middle_7067_instanceIds.txt', 'Block_3_Row_1_Middle_7081_instanceIds.txt', 'Block_3_Row_1_Middle_7095_instanceIds.txt', 'Block_3_Row_1_Middle_7109_instanceIds.txt', 'Block_3_Row_1_Middle_7137_instanceIds.txt', 'Block_3_Row_1_Middle_713_instanceIds.txt', 'Block_3_Row_1_Middle_7151_instanceIds.txt', 'Block_3_Row_1_Middle_7165_instanceIds.txt', 'Block_3_Row_1_Middle_728_instanceIds.txt', 'Block_3_Row_1_Middle_743_instanceIds.txt', 'Block_3_Row_1_Middle_833_instanceIds.txt', 'Block_3_Row_1_Middle_848_instanceIds.txt', 'Block_3_Row_1_Middle_863_instanceIds.txt', 'Block_3_Row_1_Middle_878_instanceIds.txt', 'Block_3_Row_1_Middle_908_instanceIds.txt', 'Block_3_Row_1_Middle_953_instanceIds.txt', 'Block_3_Row_1_Middle_968_instanceIds.txt', 'Block_3_Row_1_Middle_983_instanceIds.txt', 'Block_3_Row_1_Middle_998_instanceIds.txt', 'Block_5E1_Row_1_Middle_1007_instanceIds.txt', 'Block_5E1_Row_1_Middle_1063_instanceIds.txt', 'Block_5E1_Row_1_Middle_1079_instanceIds.txt', 'Block_5E1_Row_1_Middle_1087_instanceIds.txt', 'Block_5E1_Row_1_Middle_1095_instanceIds.txt', 'Block_5E1_Row_1_Middle_1143_instanceIds.txt', 'Block_5E1_Row_1_Middle_1175_instanceIds.txt', 'Block_5E1_Row_1_Middle_1183_instanceIds.txt', 'Block_5E1_Row_1_Middle_1199_instanceIds.txt', 'Block_5E1_Row_1_Middle_1231_instanceIds.txt', 'Block_5E1_Row_1_Middle_1247_instanceIds.txt', 'Block_5E1_Row_1_Middle_1279_instanceIds.txt', 'Block_5E1_Row_1_Middle_1319_instanceIds.txt', 'Block_5E1_Row_1_Middle_1327_instanceIds.txt', 'Block_5E1_Row_1_Middle_1351_instanceIds.txt', 'Block_5E1_Row_1_Middle_1367_instanceIds.txt', 'Block_5E1_Row_1_Middle_1383_instanceIds.txt', 'Block_5E1_Row_1_Middle_1399_instanceIds.txt', 'Block_5E1_Row_1_Middle_1415_instanceIds.txt', 'Block_5E1_Row_1_Middle_1447_instanceIds.txt', 'Block_5E1_Row_1_Middle_1455_instanceIds.txt', 'Block_5E1_Row_1_Middle_1495_instanceIds.txt', 'Block_5E1_Row_1_Middle_1503_instanceIds.txt', 'Block_5E1_Row_1_Middle_1511_instanceIds.txt', 'Block_5E1_Row_1_Middle_1535_instanceIds.txt', 'Block_5E1_Row_1_Middle_1543_instanceIds.txt', 'Block_5E1_Row_1_Middle_1583_instanceIds.txt', 'Block_5E1_Row_1_Middle_1591_instanceIds.txt', 'Block_5E1_Row_1_Middle_1599_instanceIds.txt', 'Block_5E1_Row_1_Middle_1615_instanceIds.txt', 'Block_5E1_Row_1_Middle_1639_instanceIds.txt', 'Block_5E1_Row_1_Middle_1647_instanceIds.txt', 'Block_5E1_Row_1_Middle_1695_instanceIds.txt', 'Block_5E1_Row_1_Middle_1719_instanceIds.txt', 'Block_5E1_Row_1_Middle_1735_instanceIds.txt', 'Block_5E1_Row_1_Middle_1751_instanceIds.txt', 'Block_5E1_Row_1_Middle_1775_instanceIds.txt', 'Block_5E1_Row_1_Middle_1783_instanceIds.txt', 'Block_5E1_Row_1_Middle_1815_instanceIds.txt', 'Block_5E1_Row_1_Middle_1831_instanceIds.txt', 'Block_5E1_Row_1_Middle_1847_instanceIds.txt', 'Block_5E1_Row_1_Middle_1855_instanceIds.txt', 'Block_5E1_Row_1_Middle_1863_instanceIds.txt', 'Block_5E1_Row_1_Middle_359_instanceIds.txt', 'Block_5E1_Row_1_Middle_375_instanceIds.txt', 'Block_5E1_Row_1_Middle_391_instanceIds.txt', 'Block_5E1_Row_1_Middle_407_instanceIds.txt', 'Block_5E1_Row_1_Middle_439_instanceIds.txt', 'Block_5E1_Row_1_Middle_455_instanceIds.txt', 'Block_5E1_Row_1_Middle_487_instanceIds.txt', 'Block_5E1_Row_1_Middle_519_instanceIds.txt', 'Block_5E1_Row_1_Middle_527_instanceIds.txt', 'Block_5E1_Row_1_Middle_535_instanceIds.txt', 'Block_5E1_Row_1_Middle_583_instanceIds.txt', 'Block_5E1_Row_1_Middle_647_instanceIds.txt', 'Block_5E1_Row_1_Middle_655_instanceIds.txt', 'Block_5E1_Row_1_Middle_671_instanceIds.txt', 'Block_5E1_Row_1_Middle_695_instanceIds.txt', 'Block_5E1_Row_1_Middle_711_instanceIds.txt', 'Block_5E1_Row_1_Middle_775_instanceIds.txt', 'Block_5E1_Row_1_Middle_783_instanceIds.txt', 'Block_5E1_Row_1_Middle_791_instanceIds.txt', 'Block_5E1_Row_1_Middle_807_instanceIds.txt', 'Block_5E1_Row_1_Middle_815_instanceIds.txt', 'Block_5E1_Row_1_Middle_863_instanceIds.txt', 'Block_5E1_Row_1_Middle_879_instanceIds.txt', 'Block_5E1_Row_1_Middle_919_instanceIds.txt', 'Block_5E1_Row_1_Middle_943_instanceIds.txt', 'Block_5E1_Row_1_Middle_975_instanceIds.txt', 'Block_5E1_Row_1_Middle_999_instanceIds.txt']\n"
          ]
        }
      ]
    },
    {
      "cell_type": "code",
      "source": [
        "def replace_extension(filename, new_extension):\n",
        "    \"\"\"Replace the file extension with a new one.\"\"\"\n",
        "    base = os.path.splitext(filename)[0]  # Get the file name without extension\n",
        "    return f\"{base}{new_extension}\"\n",
        "\n",
        "# Assuming image files are .jpg and label files are .txt\n",
        "new_labels = [replace_extension(img, '.txt') for img in images]\n",
        "\n",
        "# Dictionary to map old label names to new ones\n",
        "label_map = dict(zip(labels, new_labels))\n",
        "\n",
        "# Now, rename the label files\n",
        "for old_label, new_label in label_map.items():\n",
        "    old_label_path = os.path.join(label_dir, old_label)\n",
        "    new_label_path = os.path.join(label_dir, new_label)\n",
        "    os.rename(old_label_path, new_label_path)\n",
        "\n",
        "print(\"Renaming complete.\")\n"
      ],
      "metadata": {
        "colab": {
          "base_uri": "https://localhost:8080/"
        },
        "id": "jmQDb88-apd8",
        "outputId": "fcebbc49-95b8-4c93-847f-861b41f70794"
      },
      "execution_count": null,
      "outputs": [
        {
          "output_type": "stream",
          "name": "stdout",
          "text": [
            "Renaming complete.\n"
          ]
        }
      ]
    },
    {
      "cell_type": "code",
      "source": [
        "updated_labels = os.listdir(label_dir)\n",
        "updated_labels.sort()\n",
        "print(\"Updated Labels:\", updated_labels)\n"
      ],
      "metadata": {
        "colab": {
          "base_uri": "https://localhost:8080/"
        },
        "id": "hLDqTGf9arsZ",
        "outputId": "8b65717e-27a2-4aa3-ad71-5dd58a339269"
      },
      "execution_count": null,
      "outputs": [
        {
          "output_type": "stream",
          "name": "stdout",
          "text": [
            "Updated Labels: ['Block_1C1_Row_1_Middle_1003.txt', 'Block_1C1_Row_1_Middle_1013.txt', 'Block_1C1_Row_1_Middle_1018.txt', 'Block_1C1_Row_1_Middle_1023.txt', 'Block_1C1_Row_1_Middle_1048.txt', 'Block_1C1_Row_1_Middle_1058.txt', 'Block_1C1_Row_1_Middle_1063.txt', 'Block_1C1_Row_1_Middle_1068.txt', 'Block_1C1_Row_1_Middle_1073.txt', 'Block_1C1_Row_1_Middle_1078.txt', 'Block_1C1_Row_1_Middle_1083.txt', 'Block_1C1_Row_1_Middle_1103 (1).txt', 'Block_1C1_Row_1_Middle_1103.txt', 'Block_1C1_Row_1_Middle_1108.txt', 'Block_1C1_Row_1_Middle_1113.txt', 'Block_1C1_Row_1_Middle_1133.txt', 'Block_1C1_Row_1_Middle_1138.txt', 'Block_1C1_Row_1_Middle_1143.txt', 'Block_1C1_Row_1_Middle_1148.txt', 'Block_1C1_Row_1_Middle_1153.txt', 'Block_1C1_Row_1_Middle_1158.txt', 'Block_1C1_Row_1_Middle_1163.txt', 'Block_1C1_Row_1_Middle_1173.txt', 'Block_1C1_Row_1_Middle_1178.txt', 'Block_1C1_Row_1_Middle_1183.txt', 'Block_1C1_Row_1_Middle_1213.txt', 'Block_1C1_Row_1_Middle_1218.txt', 'Block_1C1_Row_1_Middle_1238.txt', 'Block_1C1_Row_1_Middle_1243.txt', 'Block_1C1_Row_1_Middle_1248.txt', 'Block_1C1_Row_1_Middle_1253.txt', 'Block_1C1_Row_1_Middle_1263.txt', 'Block_1C1_Row_1_Middle_1273.txt', 'Block_1C1_Row_1_Middle_1278.txt', 'Block_1C1_Row_1_Middle_1283.txt', 'Block_1C1_Row_1_Middle_1303.txt', 'Block_1C1_Row_1_Middle_1308.txt', 'Block_1C1_Row_1_Middle_1333.txt', 'Block_1C1_Row_1_Middle_1338.txt', 'Block_1C1_Row_1_Middle_1353.txt', 'Block_1C1_Row_1_Middle_1358.txt', 'Block_1C1_Row_1_Middle_1368.txt', 'Block_1C1_Row_1_Middle_1373.txt', 'Block_1C1_Row_1_Middle_1378.txt', 'Block_1C1_Row_1_Middle_1383.txt', 'Block_1C1_Row_1_Middle_1403.txt', 'Block_1C1_Row_1_Middle_1408.txt', 'Block_1C1_Row_1_Middle_1413.txt', 'Block_1C1_Row_1_Middle_1443.txt', 'Block_1C1_Row_1_Middle_1448.txt', 'Block_1C1_Row_1_Middle_1453.txt', 'Block_1C1_Row_1_Middle_1458.txt', 'Block_1C1_Row_1_Middle_1473.txt', 'Block_1C1_Row_1_Middle_1482.txt', 'Block_1C1_Row_1_Middle_1514.txt', 'Block_1C1_Row_1_Middle_1526.txt', 'Block_1C1_Row_1_Middle_1542.txt', 'Block_1C1_Row_1_Middle_1546.txt', 'Block_1C1_Row_1_Middle_1554.txt', 'Block_1C1_Row_1_Middle_1570.txt', 'Block_1C1_Row_1_Middle_1578.txt', 'Block_1C1_Row_1_Middle_1586.txt', 'Block_1C1_Row_1_Middle_1602.txt', 'Block_1C1_Row_1_Middle_1606.txt', 'Block_1C1_Row_1_Middle_1610.txt', 'Block_1C1_Row_1_Middle_1614.txt', 'Block_1C1_Row_1_Middle_1618.txt', 'Block_1C1_Row_1_Middle_1630.txt', 'Block_1C1_Row_1_Middle_1638.txt', 'Block_1C1_Row_1_Middle_1642.txt', 'Block_1C1_Row_1_Middle_1650.txt', 'Block_1C1_Row_1_Middle_1658.txt', 'Block_1C1_Row_1_Middle_1666.txt', 'Block_1C1_Row_1_Middle_1682.txt', 'Block_1C1_Row_1_Middle_1686.txt', 'Block_1C1_Row_1_Middle_1690.txt', 'Block_1C1_Row_1_Middle_1694.txt', 'Block_1C1_Row_1_Middle_1698.txt', 'Block_1C1_Row_1_Middle_1706.txt', 'Block_1C1_Row_1_Middle_1710.txt', 'Block_1C1_Row_1_Middle_1714.txt', 'Block_1C1_Row_1_Middle_1718.txt', 'Block_1C1_Row_1_Middle_1722.txt', 'Block_1C1_Row_1_Middle_1730.txt', 'Block_1C1_Row_1_Middle_1738.txt', 'Block_1C1_Row_1_Middle_1746.txt', 'Block_1C1_Row_1_Middle_1750.txt', 'Block_1C1_Row_1_Middle_1754.txt', 'Block_1C1_Row_1_Middle_1762.txt', 'Block_1C1_Row_1_Middle_1766.txt', 'Block_1C1_Row_1_Middle_1770.txt', 'Block_1C1_Row_1_Middle_1782.txt', 'Block_1C1_Row_1_Middle_1786.txt', 'Block_1C1_Row_1_Middle_1790.txt', 'Block_1C1_Row_1_Middle_1814.txt', 'Block_1C1_Row_1_Middle_1826.txt', 'Block_1C1_Row_1_Middle_1838.txt', 'Block_1C1_Row_1_Middle_1846.txt', 'Block_1C1_Row_1_Middle_1850.txt', 'Block_1C1_Row_1_Middle_1854.txt', 'Block_1C1_Row_1_Middle_1858.txt', 'Block_1C1_Row_1_Middle_1862.txt', 'Block_1C1_Row_1_Middle_1878.txt', 'Block_1C1_Row_1_Middle_1890.txt', 'Block_1C1_Row_1_Middle_1894.txt', 'Block_1C1_Row_1_Middle_1898.txt', 'Block_1C1_Row_1_Middle_1906.txt', 'Block_1C1_Row_1_Middle_1914.txt', 'Block_1C1_Row_1_Middle_1918.txt', 'Block_1C1_Row_1_Middle_1922.txt', 'Block_1C1_Row_1_Middle_1930.txt', 'Block_1C1_Row_1_Middle_1938.txt', 'Block_1C1_Row_1_Middle_1946.txt', 'Block_1C1_Row_1_Middle_1954.txt', 'Block_1C1_Row_1_Middle_1958.txt', 'Block_1C1_Row_1_Middle_1962.txt', 'Block_1C1_Row_1_Middle_1970.txt', 'Block_1C1_Row_1_Middle_1974.txt', 'Block_1C1_Row_1_Middle_1982.txt', 'Block_1C1_Row_1_Middle_1986.txt', 'Block_1C1_Row_1_Middle_1990.txt', 'Block_1C1_Row_1_Middle_2002.txt', 'Block_1C1_Row_1_Middle_2006.txt', 'Block_1C1_Row_1_Middle_2010.txt', 'Block_1C1_Row_1_Middle_2018.txt', 'Block_1C1_Row_1_Middle_2022.txt', 'Block_1C1_Row_1_Middle_2030.txt', 'Block_1C1_Row_1_Middle_2050.txt', 'Block_1C1_Row_1_Middle_2054.txt', 'Block_1C1_Row_1_Middle_2070.txt', 'Block_1C1_Row_1_Middle_2078.txt', 'Block_1C1_Row_1_Middle_2082.txt', 'Block_1C1_Row_1_Middle_2086.txt', 'Block_1C1_Row_1_Middle_2098.txt', 'Block_1C1_Row_1_Middle_2102.txt', 'Block_1C1_Row_1_Middle_2110.txt', 'Block_1C1_Row_1_Middle_2118.txt', 'Block_1C1_Row_1_Middle_2122.txt', 'Block_1C1_Row_1_Middle_2134.txt', 'Block_1C1_Row_1_Middle_2138.txt', 'Block_1C1_Row_1_Middle_2142.txt', 'Block_1C1_Row_1_Middle_2146.txt', 'Block_1C1_Row_1_Middle_2154.txt', 'Block_1C1_Row_1_Middle_2166.txt', 'Block_1C1_Row_1_Middle_2174.txt', 'Block_1C1_Row_1_Middle_2182.txt', 'Block_1C1_Row_1_Middle_2186.txt', 'Block_1C1_Row_1_Middle_2190.txt', 'Block_1C1_Row_1_Middle_2198.txt', 'Block_1C1_Row_1_Middle_2202.txt', 'Block_1C1_Row_1_Middle_2218.txt', 'Block_1C1_Row_1_Middle_2226.txt', 'Block_1C1_Row_1_Middle_2230.txt', 'Block_1C1_Row_1_Middle_2234.txt', 'Block_1C1_Row_1_Middle_2250.txt', 'Block_1C1_Row_1_Middle_2254.txt', 'Block_1C1_Row_1_Middle_2258.txt', 'Block_1C1_Row_1_Middle_2262.txt', 'Block_1C1_Row_1_Middle_2270.txt', 'Block_1C1_Row_1_Middle_2278.txt', 'Block_1C1_Row_1_Middle_2282.txt', 'Block_1C1_Row_1_Middle_2286.txt', 'Block_1C1_Row_1_Middle_2290.txt', 'Block_1C1_Row_1_Middle_2306.txt', 'Block_1C1_Row_1_Middle_2314.txt', 'Block_1C1_Row_1_Middle_2318.txt', 'Block_1C1_Row_1_Middle_2322.txt', 'Block_1C1_Row_1_Middle_2330.txt', 'Block_1C1_Row_1_Middle_2338.txt', 'Block_1C1_Row_1_Middle_2342.txt', 'Block_1C1_Row_1_Middle_2366.txt', 'Block_1C1_Row_1_Middle_2370.txt', 'Block_1C1_Row_1_Middle_2374.txt', 'Block_1C1_Row_1_Middle_2378 (1).txt', 'Block_1C1_Row_1_Middle_2378.txt', 'Block_1C1_Row_1_Middle_2394.txt', 'Block_1C1_Row_1_Middle_2398.txt', 'Block_1C1_Row_1_Middle_2402.txt', 'Block_1C1_Row_1_Middle_2406.txt', 'Block_1C1_Row_1_Middle_2410.txt', 'Block_1C1_Row_1_Middle_2418.txt', 'Block_1C1_Row_1_Middle_2426.txt', 'Block_1C1_Row_1_Middle_2430.txt', 'Block_1C1_Row_1_Middle_2438.txt', 'Block_1C1_Row_1_Middle_2442.txt', 'Block_1C1_Row_1_Middle_2446.txt', 'Block_1C1_Row_1_Middle_2450.txt', 'Block_1C1_Row_1_Middle_2458.txt', 'Block_1C1_Row_1_Middle_2462.txt', 'Block_1C1_Row_1_Middle_2466.txt', 'Block_1C1_Row_1_Middle_2470.txt', 'Block_1C1_Row_1_Middle_2474.txt', 'Block_1C1_Row_1_Middle_2478.txt', 'Block_1C1_Row_1_Middle_2482.txt', 'Block_1C1_Row_1_Middle_2498.txt', 'Block_1C1_Row_1_Middle_2506.txt', 'Block_1C1_Row_1_Middle_2518.txt', 'Block_1C1_Row_1_Middle_2530.txt', 'Block_1C1_Row_1_Middle_2542.txt', 'Block_1C1_Row_1_Middle_2562.txt', 'Block_1C1_Row_1_Middle_2566.txt', 'Block_1C1_Row_1_Middle_2570.txt', 'Block_1C1_Row_1_Middle_2574.txt', 'Block_1C1_Row_1_Middle_2578.txt', 'Block_1C1_Row_1_Middle_2582.txt', 'Block_1C1_Row_1_Middle_2618.txt', 'Block_1C1_Row_1_Middle_2622.txt', 'Block_1C1_Row_1_Middle_2630.txt', 'Block_1C1_Row_1_Middle_2650.txt', 'Block_1C1_Row_1_Middle_2654.txt', 'Block_1C1_Row_1_Middle_2658.txt', 'Block_1C1_Row_1_Middle_2666.txt', 'Block_1C1_Row_1_Middle_2670.txt', 'Block_1C1_Row_1_Middle_723.txt', 'Block_1C1_Row_1_Middle_733.txt', 'Block_1C1_Row_1_Middle_738.txt', 'Block_1C1_Row_1_Middle_748.txt', 'Block_1C1_Row_1_Middle_758.txt', 'Block_1C1_Row_1_Middle_763.txt', 'Block_1C1_Row_1_Middle_773.txt', 'Block_1C1_Row_1_Middle_778.txt', 'Block_1C1_Row_1_Middle_788.txt', 'Block_1C1_Row_1_Middle_818.txt', 'Block_1C1_Row_1_Middle_833.txt', 'Block_1C1_Row_1_Middle_843.txt', 'Block_1C1_Row_1_Middle_853.txt', 'Block_1C1_Row_1_Middle_858.txt', 'Block_1C1_Row_1_Middle_863.txt', 'Block_1C1_Row_1_Middle_873.txt', 'Block_1C1_Row_1_Middle_878.txt', 'Block_1C1_Row_1_Middle_888.txt', 'Block_1C1_Row_1_Middle_903.txt', 'Block_1C1_Row_1_Middle_913.txt', 'Block_1C1_Row_1_Middle_918.txt', 'Block_1C1_Row_1_Middle_928.txt', 'Block_1C1_Row_1_Middle_938.txt', 'Block_1C1_Row_1_Middle_948.txt', 'Block_1C1_Row_1_Middle_958.txt', 'Block_1C1_Row_1_Middle_963.txt', 'Block_1C1_Row_1_Middle_988.txt', 'Block_1C1_Row_1_Middle_993.txt', 'Block_1C1_Row_1_Middle_998.txt', 'Block_3_Row_1_Middle_1058.txt', 'Block_3_Row_1_Middle_1088.txt', 'Block_3_Row_1_Middle_1178.txt', 'Block_3_Row_1_Middle_1193.txt', 'Block_3_Row_1_Middle_1208.txt', 'Block_3_Row_1_Middle_1238.txt', 'Block_3_Row_1_Middle_1253.txt', 'Block_3_Row_1_Middle_1283.txt', 'Block_3_Row_1_Middle_1298.txt', 'Block_3_Row_1_Middle_1313.txt', 'Block_3_Row_1_Middle_1327.txt', 'Block_3_Row_1_Middle_1341.txt', 'Block_3_Row_1_Middle_1355.txt', 'Block_3_Row_1_Middle_1383.txt', 'Block_3_Row_1_Middle_1439.txt', 'Block_3_Row_1_Middle_1453.txt', 'Block_3_Row_1_Middle_1467.txt', 'Block_3_Row_1_Middle_1551.txt', 'Block_3_Row_1_Middle_1565.txt', 'Block_3_Row_1_Middle_1579.txt', 'Block_3_Row_1_Middle_1607.txt', 'Block_3_Row_1_Middle_1635.txt', 'Block_3_Row_1_Middle_1663.txt', 'Block_3_Row_1_Middle_1677.txt', 'Block_3_Row_1_Middle_1691.txt', 'Block_3_Row_1_Middle_1719.txt', 'Block_3_Row_1_Middle_1747.txt', 'Block_3_Row_1_Middle_1775.txt', 'Block_3_Row_1_Middle_1817.txt', 'Block_3_Row_1_Middle_1845.txt', 'Block_3_Row_1_Middle_1859.txt', 'Block_3_Row_1_Middle_1901.txt', 'Block_3_Row_1_Middle_1915.txt', 'Block_3_Row_1_Middle_1929.txt', 'Block_3_Row_1_Middle_1971.txt', 'Block_3_Row_1_Middle_1985.txt', 'Block_3_Row_1_Middle_1999.txt', 'Block_3_Row_1_Middle_2013.txt', 'Block_3_Row_1_Middle_2055.txt', 'Block_3_Row_1_Middle_2097.txt', 'Block_3_Row_1_Middle_2111.txt', 'Block_3_Row_1_Middle_2153.txt', 'Block_3_Row_1_Middle_2195.txt', 'Block_3_Row_1_Middle_2223.txt', 'Block_3_Row_1_Middle_2237.txt', 'Block_3_Row_1_Middle_2251.txt', 'Block_3_Row_1_Middle_2265.txt', 'Block_3_Row_1_Middle_2321.txt', 'Block_3_Row_1_Middle_2349.txt', 'Block_3_Row_1_Middle_2363.txt', 'Block_3_Row_1_Middle_2405.txt', 'Block_3_Row_1_Middle_2419.txt', 'Block_3_Row_1_Middle_2447.txt', 'Block_3_Row_1_Middle_2461.txt', 'Block_3_Row_1_Middle_2545.txt', 'Block_3_Row_1_Middle_2573.txt', 'Block_3_Row_1_Middle_2587.txt', 'Block_3_Row_1_Middle_2601.txt', 'Block_3_Row_1_Middle_2629.txt', 'Block_3_Row_1_Middle_263.txt', 'Block_3_Row_1_Middle_2643.txt', 'Block_3_Row_1_Middle_2713.txt', 'Block_3_Row_1_Middle_2727.txt', 'Block_3_Row_1_Middle_2741.txt', 'Block_3_Row_1_Middle_2755.txt', 'Block_3_Row_1_Middle_2769.txt', 'Block_3_Row_1_Middle_278.txt', 'Block_3_Row_1_Middle_2825.txt', 'Block_3_Row_1_Middle_2839.txt', 'Block_3_Row_1_Middle_2853.txt', 'Block_3_Row_1_Middle_2867.txt', 'Block_3_Row_1_Middle_2895.txt', 'Block_3_Row_1_Middle_2909.txt', 'Block_3_Row_1_Middle_2923.txt', 'Block_3_Row_1_Middle_293.txt', 'Block_3_Row_1_Middle_2937.txt', 'Block_3_Row_1_Middle_2951.txt', 'Block_3_Row_1_Middle_2979.txt', 'Block_3_Row_1_Middle_2993.txt', 'Block_3_Row_1_Middle_3007.txt', 'Block_3_Row_1_Middle_3021.txt', 'Block_3_Row_1_Middle_3035.txt', 'Block_3_Row_1_Middle_3049.txt', 'Block_3_Row_1_Middle_308.txt', 'Block_3_Row_1_Middle_3091.txt', 'Block_3_Row_1_Middle_3105.txt', 'Block_3_Row_1_Middle_3133.txt', 'Block_3_Row_1_Middle_3147.txt', 'Block_3_Row_1_Middle_3161.txt', 'Block_3_Row_1_Middle_3175.txt', 'Block_3_Row_1_Middle_323.txt', 'Block_3_Row_1_Middle_353.txt', 'Block_3_Row_1_Middle_3668.txt', 'Block_3_Row_1_Middle_368.txt', 'Block_3_Row_1_Middle_3713.txt', 'Block_3_Row_1_Middle_3773.txt', 'Block_3_Row_1_Middle_383.txt', 'Block_3_Row_1_Middle_3863.txt', 'Block_3_Row_1_Middle_3908.txt', 'Block_3_Row_1_Middle_3923.txt', 'Block_3_Row_1_Middle_3938.txt', 'Block_3_Row_1_Middle_3953.txt', 'Block_3_Row_1_Middle_398.txt', 'Block_3_Row_1_Middle_3983.txt', 'Block_3_Row_1_Middle_4013.txt', 'Block_3_Row_1_Middle_4028.txt', 'Block_3_Row_1_Middle_4058.txt', 'Block_3_Row_1_Middle_4073.txt', 'Block_3_Row_1_Middle_4103.txt', 'Block_3_Row_1_Middle_4118.txt', 'Block_3_Row_1_Middle_4148.txt', 'Block_3_Row_1_Middle_4163.txt', 'Block_3_Row_1_Middle_4178.txt', 'Block_3_Row_1_Middle_4253.txt', 'Block_3_Row_1_Middle_4283.txt', 'Block_3_Row_1_Middle_4298.txt', 'Block_3_Row_1_Middle_4313.txt', 'Block_3_Row_1_Middle_4358.txt', 'Block_3_Row_1_Middle_4373.txt', 'Block_3_Row_1_Middle_4388.txt', 'Block_3_Row_1_Middle_4403.txt', 'Block_3_Row_1_Middle_4418.txt', 'Block_3_Row_1_Middle_4463.txt', 'Block_3_Row_1_Middle_4493.txt', 'Block_3_Row_1_Middle_4523.txt', 'Block_3_Row_1_Middle_4538.txt', 'Block_3_Row_1_Middle_4553.txt', 'Block_3_Row_1_Middle_4568.txt', 'Block_3_Row_1_Middle_4598.txt', 'Block_3_Row_1_Middle_4613.txt', 'Block_3_Row_1_Middle_4628.txt', 'Block_3_Row_1_Middle_4643.txt', 'Block_3_Row_1_Middle_4688.txt', 'Block_3_Row_1_Middle_4748.txt', 'Block_3_Row_1_Middle_4793.txt', 'Block_3_Row_1_Middle_4808.txt', 'Block_3_Row_1_Middle_488.txt', 'Block_3_Row_1_Middle_4898.txt', 'Block_3_Row_1_Middle_4913.txt', 'Block_3_Row_1_Middle_4958.txt', 'Block_3_Row_1_Middle_4973.txt', 'Block_3_Row_1_Middle_5018.txt', 'Block_3_Row_1_Middle_5033.txt', 'Block_3_Row_1_Middle_5093.txt', 'Block_3_Row_1_Middle_5107.txt', 'Block_3_Row_1_Middle_5149.txt', 'Block_3_Row_1_Middle_5163.txt', 'Block_3_Row_1_Middle_518.txt', 'Block_3_Row_1_Middle_5205.txt', 'Block_3_Row_1_Middle_5219.txt', 'Block_3_Row_1_Middle_5289.txt', 'Block_3_Row_1_Middle_533.txt', 'Block_3_Row_1_Middle_5331.txt', 'Block_3_Row_1_Middle_5345.txt', 'Block_3_Row_1_Middle_5359.txt', 'Block_3_Row_1_Middle_5373.txt', 'Block_3_Row_1_Middle_5429.txt', 'Block_3_Row_1_Middle_5443.txt', 'Block_3_Row_1_Middle_5471.txt', 'Block_3_Row_1_Middle_548.txt', 'Block_3_Row_1_Middle_5485.txt', 'Block_3_Row_1_Middle_5499.txt', 'Block_3_Row_1_Middle_5513.txt', 'Block_3_Row_1_Middle_5569.txt', 'Block_3_Row_1_Middle_5625.txt', 'Block_3_Row_1_Middle_5639.txt', 'Block_3_Row_1_Middle_5695.txt', 'Block_3_Row_1_Middle_5709.txt', 'Block_3_Row_1_Middle_5737.txt', 'Block_3_Row_1_Middle_5765 (1).txt', 'Block_3_Row_1_Middle_5765.txt', 'Block_3_Row_1_Middle_5779.txt', 'Block_3_Row_1_Middle_5807.txt', 'Block_3_Row_1_Middle_5821.txt', 'Block_3_Row_1_Middle_5835.txt', 'Block_3_Row_1_Middle_5849.txt', 'Block_3_Row_1_Middle_5863.txt', 'Block_3_Row_1_Middle_5891.txt', 'Block_3_Row_1_Middle_5905.txt', 'Block_3_Row_1_Middle_5933.txt', 'Block_3_Row_1_Middle_6017.txt', 'Block_3_Row_1_Middle_6045.txt', 'Block_3_Row_1_Middle_6087.txt', 'Block_3_Row_1_Middle_6101.txt', 'Block_3_Row_1_Middle_6129.txt', 'Block_3_Row_1_Middle_6143.txt', 'Block_3_Row_1_Middle_6157.txt', 'Block_3_Row_1_Middle_6171.txt', 'Block_3_Row_1_Middle_6185.txt', 'Block_3_Row_1_Middle_6199.txt', 'Block_3_Row_1_Middle_6213.txt', 'Block_3_Row_1_Middle_6227.txt', 'Block_3_Row_1_Middle_623.txt', 'Block_3_Row_1_Middle_6241.txt', 'Block_3_Row_1_Middle_6255.txt', 'Block_3_Row_1_Middle_6339.txt', 'Block_3_Row_1_Middle_6395.txt', 'Block_3_Row_1_Middle_6409.txt', 'Block_3_Row_1_Middle_6437.txt', 'Block_3_Row_1_Middle_6465.txt', 'Block_3_Row_1_Middle_6507.txt', 'Block_3_Row_1_Middle_6591.txt', 'Block_3_Row_1_Middle_6605.txt', 'Block_3_Row_1_Middle_6647.txt', 'Block_3_Row_1_Middle_6661.txt', 'Block_3_Row_1_Middle_6675.txt', 'Block_3_Row_1_Middle_6689.txt', 'Block_3_Row_1_Middle_6717.txt', 'Block_3_Row_1_Middle_6745.txt', 'Block_3_Row_1_Middle_6759.txt', 'Block_3_Row_1_Middle_6773.txt', 'Block_3_Row_1_Middle_6787.txt', 'Block_3_Row_1_Middle_6801.txt', 'Block_3_Row_1_Middle_6829.txt', 'Block_3_Row_1_Middle_683.txt', 'Block_3_Row_1_Middle_6843.txt', 'Block_3_Row_1_Middle_6857.txt', 'Block_3_Row_1_Middle_6899.txt', 'Block_3_Row_1_Middle_698.txt', 'Block_3_Row_1_Middle_7011.txt', 'Block_3_Row_1_Middle_7025.txt', 'Block_3_Row_1_Middle_7053.txt', 'Block_3_Row_1_Middle_7067.txt', 'Block_3_Row_1_Middle_7081.txt', 'Block_3_Row_1_Middle_7095.txt', 'Block_3_Row_1_Middle_7109.txt', 'Block_3_Row_1_Middle_713.txt', 'Block_3_Row_1_Middle_7137.txt', 'Block_3_Row_1_Middle_7151.txt', 'Block_3_Row_1_Middle_7165.txt', 'Block_3_Row_1_Middle_728.txt', 'Block_3_Row_1_Middle_743.txt', 'Block_3_Row_1_Middle_833.txt', 'Block_3_Row_1_Middle_848.txt', 'Block_3_Row_1_Middle_863.txt', 'Block_3_Row_1_Middle_878.txt', 'Block_3_Row_1_Middle_908.txt', 'Block_3_Row_1_Middle_953.txt', 'Block_3_Row_1_Middle_968.txt', 'Block_3_Row_1_Middle_983.txt', 'Block_3_Row_1_Middle_998.txt', 'Block_5E1_Row_1_Middle_1007.txt', 'Block_5E1_Row_1_Middle_1063.txt', 'Block_5E1_Row_1_Middle_1079.txt', 'Block_5E1_Row_1_Middle_1087.txt', 'Block_5E1_Row_1_Middle_1095.txt', 'Block_5E1_Row_1_Middle_1143.txt', 'Block_5E1_Row_1_Middle_1175.txt', 'Block_5E1_Row_1_Middle_1183.txt', 'Block_5E1_Row_1_Middle_1199.txt', 'Block_5E1_Row_1_Middle_1231.txt', 'Block_5E1_Row_1_Middle_1247.txt', 'Block_5E1_Row_1_Middle_1279.txt', 'Block_5E1_Row_1_Middle_1319.txt', 'Block_5E1_Row_1_Middle_1327.txt', 'Block_5E1_Row_1_Middle_1351.txt', 'Block_5E1_Row_1_Middle_1367.txt', 'Block_5E1_Row_1_Middle_1383.txt', 'Block_5E1_Row_1_Middle_1399.txt', 'Block_5E1_Row_1_Middle_1415.txt', 'Block_5E1_Row_1_Middle_1447.txt', 'Block_5E1_Row_1_Middle_1455.txt', 'Block_5E1_Row_1_Middle_1495.txt', 'Block_5E1_Row_1_Middle_1503.txt', 'Block_5E1_Row_1_Middle_1511.txt', 'Block_5E1_Row_1_Middle_1535.txt', 'Block_5E1_Row_1_Middle_1543.txt', 'Block_5E1_Row_1_Middle_1583.txt', 'Block_5E1_Row_1_Middle_1591.txt', 'Block_5E1_Row_1_Middle_1599.txt', 'Block_5E1_Row_1_Middle_1615.txt', 'Block_5E1_Row_1_Middle_1647.txt', 'Block_5E1_Row_1_Middle_1695.txt', 'Block_5E1_Row_1_Middle_1719.txt', 'Block_5E1_Row_1_Middle_1735.txt', 'Block_5E1_Row_1_Middle_1751.txt', 'Block_5E1_Row_1_Middle_1775.txt', 'Block_5E1_Row_1_Middle_1783.txt', 'Block_5E1_Row_1_Middle_1815.txt', 'Block_5E1_Row_1_Middle_1831.txt', 'Block_5E1_Row_1_Middle_1847.txt', 'Block_5E1_Row_1_Middle_1855.txt', 'Block_5E1_Row_1_Middle_1863.txt', 'Block_5E1_Row_1_Middle_359.txt', 'Block_5E1_Row_1_Middle_375.txt', 'Block_5E1_Row_1_Middle_391.txt', 'Block_5E1_Row_1_Middle_407.txt', 'Block_5E1_Row_1_Middle_439.txt', 'Block_5E1_Row_1_Middle_455.txt', 'Block_5E1_Row_1_Middle_487.txt', 'Block_5E1_Row_1_Middle_519.txt', 'Block_5E1_Row_1_Middle_527.txt', 'Block_5E1_Row_1_Middle_535.txt', 'Block_5E1_Row_1_Middle_583.txt', 'Block_5E1_Row_1_Middle_647.txt', 'Block_5E1_Row_1_Middle_655.txt', 'Block_5E1_Row_1_Middle_671.txt', 'Block_5E1_Row_1_Middle_695.txt', 'Block_5E1_Row_1_Middle_711.txt', 'Block_5E1_Row_1_Middle_775.txt', 'Block_5E1_Row_1_Middle_783.txt', 'Block_5E1_Row_1_Middle_791.txt', 'Block_5E1_Row_1_Middle_807.txt', 'Block_5E1_Row_1_Middle_815.txt', 'Block_5E1_Row_1_Middle_863.txt', 'Block_5E1_Row_1_Middle_879.txt', 'Block_5E1_Row_1_Middle_919.txt', 'Block_5E1_Row_1_Middle_943.txt']\n"
          ]
        }
      ]
    },
    {
      "cell_type": "code",
      "source": [
        "import os\n",
        "\n",
        "# Paths to your directories\n",
        "image_dir = '/content/drive/MyDrive/Val/val_images'\n",
        "label_dir = '/content/drive/MyDrive/Val/val_masks'\n",
        "\n",
        "# Get list of files\n",
        "images = os.listdir(image_dir)\n",
        "labels = os.listdir(label_dir)\n",
        "\n",
        "# Sort lists to maintain order\n",
        "images.sort()\n",
        "labels.sort()\n",
        "\n",
        "print(\"Images:\", images)\n",
        "print(\"Labels:\", labels)\n"
      ],
      "metadata": {
        "colab": {
          "base_uri": "https://localhost:8080/"
        },
        "id": "K4bJkwhxa0vY",
        "outputId": "a0cf2e88-9078-43af-df4a-edfaaa077eb9"
      },
      "execution_count": null,
      "outputs": [
        {
          "output_type": "stream",
          "name": "stdout",
          "text": [
            "Images: ['Block_5E1_Row_1_Middle_1871.png', 'Block_5E1_Row_1_Middle_1911.png', 'Block_5E1_Row_1_Middle_1919.png', 'Block_5E1_Row_1_Middle_1943.png', 'Block_5E1_Row_1_Middle_1959.png', 'Block_5E1_Row_1_Middle_1975.png', 'Block_5E1_Row_1_Middle_1983.png', 'Block_5E1_Row_1_Middle_1991.png', 'Block_5E1_Row_1_Middle_1999.png', 'Block_5E1_Row_1_Middle_2023.png', 'Block_5E1_Row_1_Middle_2039.png', 'Block_5E1_Row_1_Middle_2055.png', 'Block_5E1_Row_1_Middle_2087.png', 'Block_5E1_Row_1_Middle_2095.png', 'Block_5E1_Row_1_Middle_2103.png', 'Block_5E1_Row_1_Middle_2127.png', 'Block_5E1_Row_1_Middle_2135.png', 'Block_5E1_Row_1_Middle_2151.png', 'Block_5E1_Row_1_Middle_2183.png', 'Block_5E1_Row_1_Middle_2191.png', 'Block_5E1_Row_1_Middle_2199.png', 'Block_5E1_Row_1_Middle_2223.png', 'Block_5E1_Row_1_Middle_2231.png', 'Block_5E1_Row_1_Middle_2247.png', 'Block_5E1_Row_1_Middle_2271.png', 'Block_5E1_Row_1_Middle_2287.png', 'Block_5E1_Row_1_Middle_2295.png', 'Block_5E1_Row_1_Middle_2319.png', 'Block_5E1_Row_1_Middle_2335.png', 'Block_5E1_Row_1_Middle_2343.png', 'Block_5E1_Row_1_Middle_2367.png', 'Block_5E1_Row_1_Middle_2492.png', 'Block_5E1_Row_1_Middle_2506.png', 'Block_5E1_Row_1_Middle_2513.png', 'Block_5E1_Row_1_Middle_2520.png', 'Block_5E1_Row_1_Middle_2534.png', 'Block_5E1_Row_1_Middle_2541.png', 'Block_5E1_Row_1_Middle_2548.png', 'Block_5E1_Row_1_Middle_2555.png', 'Block_5E1_Row_1_Middle_2569.png', 'Block_5E1_Row_1_Middle_2576.png', 'Block_5E1_Row_1_Middle_2611.png', 'Block_5E1_Row_1_Middle_2618.png', 'Block_5E1_Row_1_Middle_2625.png', 'Block_5E1_Row_1_Middle_2632.png', 'Block_5E1_Row_1_Middle_2639.png', 'Block_5E1_Row_1_Middle_2758.png', 'Block_5E1_Row_1_Middle_2765.png', 'Block_5E1_Row_1_Middle_2772.png', 'Block_5E1_Row_1_Middle_2800.png', 'Block_5E1_Row_1_Middle_2807.png', 'Block_5E1_Row_1_Middle_2814.png', 'Block_5E1_Row_1_Middle_2821.png', 'Block_5E1_Row_1_Middle_2856.png', 'Block_5E1_Row_1_Middle_2870.png', 'Block_5E1_Row_1_Middle_2877.png', 'Block_5E1_Row_1_Middle_2884.png', 'Block_5E1_Row_1_Middle_2898.png', 'Block_5E1_Row_1_Middle_2905.png', 'Block_5E1_Row_1_Middle_2926.png', 'Block_5E1_Row_1_Middle_2933.png', 'Block_5E1_Row_1_Middle_2940.png', 'Block_5E1_Row_1_Middle_2954.png', 'Block_5E1_Row_1_Middle_2982.png', 'Block_5E1_Row_1_Middle_2989.png', 'Block_5E1_Row_1_Middle_2996.png', 'Block_5E1_Row_1_Middle_3045.png', 'Block_5E1_Row_1_Middle_3066.png', 'Block_5E1_Row_1_Middle_3087.png', 'Block_5E1_Row_1_Middle_3143.png', 'Block_5E1_Row_1_Middle_3150.png', 'Block_5E1_Row_1_Middle_3157.png', 'Block_5E1_Row_1_Middle_3220.png', 'Block_5E1_Row_1_Middle_3227.png', 'Block_5E1_Row_1_Middle_3234.png', 'Block_5E1_Row_1_Middle_3255.png', 'Block_5E1_Row_1_Middle_3269.png', 'Block_5E1_Row_1_Middle_3283.png', 'Block_5E1_Row_1_Middle_3304.png', 'Block_5E1_Row_1_Middle_3311.png', 'Block_5E1_Row_1_Middle_3318.png', 'Block_5E1_Row_1_Middle_3346.png', 'Block_5E1_Row_1_Middle_3353.png', 'Block_5E1_Row_1_Middle_3374.png', 'Block_5E1_Row_1_Middle_3381.png', 'Block_5E1_Row_1_Middle_3815.png', 'Block_5E1_Row_1_Middle_3823.png', 'Block_5E1_Row_1_Middle_3855.png', 'Block_5E1_Row_1_Middle_3879.png', 'Block_5E1_Row_1_Middle_3887.png', 'Block_5E1_Row_1_Middle_3919.png', 'Block_5E1_Row_1_Middle_3927.png', 'Block_5E1_Row_1_Middle_3935.png', 'Block_5E1_Row_1_Middle_3951.png', 'Block_5E1_Row_1_Middle_3967.png', 'Block_5E1_Row_1_Middle_3991.png', 'Block_5E1_Row_1_Middle_4023.png', 'Block_5E1_Row_1_Middle_4055.png', 'Block_5E1_Row_1_Middle_4086.png', 'Block_5E1_Row_1_Middle_4093.png']\n",
            "Labels: ['Block_5E1_Row_1_Middle_1871_instanceIds.txt', 'Block_5E1_Row_1_Middle_1911_instanceIds.txt', 'Block_5E1_Row_1_Middle_1919_instanceIds.txt', 'Block_5E1_Row_1_Middle_1943_instanceIds.txt', 'Block_5E1_Row_1_Middle_1959_instanceIds.txt', 'Block_5E1_Row_1_Middle_1975_instanceIds.txt', 'Block_5E1_Row_1_Middle_1983_instanceIds.txt', 'Block_5E1_Row_1_Middle_1991_instanceIds.txt', 'Block_5E1_Row_1_Middle_1999_instanceIds.txt', 'Block_5E1_Row_1_Middle_2023_instanceIds.txt', 'Block_5E1_Row_1_Middle_2039_instanceIds.txt', 'Block_5E1_Row_1_Middle_2055_instanceIds.txt', 'Block_5E1_Row_1_Middle_2087_instanceIds.txt', 'Block_5E1_Row_1_Middle_2095_instanceIds.txt', 'Block_5E1_Row_1_Middle_2103_instanceIds.txt', 'Block_5E1_Row_1_Middle_2127_instanceIds.txt', 'Block_5E1_Row_1_Middle_2135_instanceIds.txt', 'Block_5E1_Row_1_Middle_2151_instanceIds.txt', 'Block_5E1_Row_1_Middle_2183_instanceIds.txt', 'Block_5E1_Row_1_Middle_2191_instanceIds.txt', 'Block_5E1_Row_1_Middle_2199_instanceIds.txt', 'Block_5E1_Row_1_Middle_2223_instanceIds.txt', 'Block_5E1_Row_1_Middle_2231_instanceIds.txt', 'Block_5E1_Row_1_Middle_2247_instanceIds.txt', 'Block_5E1_Row_1_Middle_2271_instanceIds.txt', 'Block_5E1_Row_1_Middle_2287_instanceIds.txt', 'Block_5E1_Row_1_Middle_2295_instanceIds.txt', 'Block_5E1_Row_1_Middle_2319_instanceIds.txt', 'Block_5E1_Row_1_Middle_2335_instanceIds.txt', 'Block_5E1_Row_1_Middle_2343_instanceIds.txt', 'Block_5E1_Row_1_Middle_2367_instanceIds.txt', 'Block_5E1_Row_1_Middle_2492_instanceIds.txt', 'Block_5E1_Row_1_Middle_2506_instanceIds.txt', 'Block_5E1_Row_1_Middle_2513_instanceIds.txt', 'Block_5E1_Row_1_Middle_2520_instanceIds.txt', 'Block_5E1_Row_1_Middle_2534_instanceIds.txt', 'Block_5E1_Row_1_Middle_2541_instanceIds.txt', 'Block_5E1_Row_1_Middle_2548_instanceIds.txt', 'Block_5E1_Row_1_Middle_2555_instanceIds.txt', 'Block_5E1_Row_1_Middle_2569_instanceIds.txt', 'Block_5E1_Row_1_Middle_2576_instanceIds.txt', 'Block_5E1_Row_1_Middle_2611_instanceIds.txt', 'Block_5E1_Row_1_Middle_2618_instanceIds.txt', 'Block_5E1_Row_1_Middle_2625_instanceIds.txt', 'Block_5E1_Row_1_Middle_2632_instanceIds.txt', 'Block_5E1_Row_1_Middle_2639_instanceIds.txt', 'Block_5E1_Row_1_Middle_2758_instanceIds.txt', 'Block_5E1_Row_1_Middle_2765_instanceIds.txt', 'Block_5E1_Row_1_Middle_2772_instanceIds.txt', 'Block_5E1_Row_1_Middle_2800_instanceIds.txt', 'Block_5E1_Row_1_Middle_2807_instanceIds.txt', 'Block_5E1_Row_1_Middle_2814_instanceIds.txt', 'Block_5E1_Row_1_Middle_2821_instanceIds.txt', 'Block_5E1_Row_1_Middle_2856_instanceIds.txt', 'Block_5E1_Row_1_Middle_2870_instanceIds.txt', 'Block_5E1_Row_1_Middle_2877_instanceIds.txt', 'Block_5E1_Row_1_Middle_2884_instanceIds.txt', 'Block_5E1_Row_1_Middle_2898_instanceIds.txt', 'Block_5E1_Row_1_Middle_2905_instanceIds.txt', 'Block_5E1_Row_1_Middle_2926_instanceIds.txt', 'Block_5E1_Row_1_Middle_2933_instanceIds.txt', 'Block_5E1_Row_1_Middle_2940_instanceIds.txt', 'Block_5E1_Row_1_Middle_2954_instanceIds.txt', 'Block_5E1_Row_1_Middle_2982_instanceIds.txt', 'Block_5E1_Row_1_Middle_2989_instanceIds.txt', 'Block_5E1_Row_1_Middle_2996_instanceIds.txt', 'Block_5E1_Row_1_Middle_3045_instanceIds.txt', 'Block_5E1_Row_1_Middle_3066_instanceIds.txt', 'Block_5E1_Row_1_Middle_3087_instanceIds.txt', 'Block_5E1_Row_1_Middle_3143_instanceIds.txt', 'Block_5E1_Row_1_Middle_3150_instanceIds.txt', 'Block_5E1_Row_1_Middle_3157_instanceIds.txt', 'Block_5E1_Row_1_Middle_3220_instanceIds.txt', 'Block_5E1_Row_1_Middle_3227_instanceIds.txt', 'Block_5E1_Row_1_Middle_3234_instanceIds.txt', 'Block_5E1_Row_1_Middle_3255_instanceIds.txt', 'Block_5E1_Row_1_Middle_3269_instanceIds.txt', 'Block_5E1_Row_1_Middle_3283_instanceIds.txt', 'Block_5E1_Row_1_Middle_3304_instanceIds.txt', 'Block_5E1_Row_1_Middle_3311_instanceIds.txt', 'Block_5E1_Row_1_Middle_3318_instanceIds.txt', 'Block_5E1_Row_1_Middle_3346_instanceIds.txt', 'Block_5E1_Row_1_Middle_3353_instanceIds.txt', 'Block_5E1_Row_1_Middle_3374_instanceIds.txt', 'Block_5E1_Row_1_Middle_3381_instanceIds.txt', 'Block_5E1_Row_1_Middle_3815_instanceIds.txt', 'Block_5E1_Row_1_Middle_3823_instanceIds.txt', 'Block_5E1_Row_1_Middle_3855_instanceIds.txt', 'Block_5E1_Row_1_Middle_3879_instanceIds.txt', 'Block_5E1_Row_1_Middle_3887_instanceIds.txt', 'Block_5E1_Row_1_Middle_3919_instanceIds.txt', 'Block_5E1_Row_1_Middle_3927_instanceIds.txt', 'Block_5E1_Row_1_Middle_3935_instanceIds.txt', 'Block_5E1_Row_1_Middle_3951_instanceIds.txt', 'Block_5E1_Row_1_Middle_3967_instanceIds.txt', 'Block_5E1_Row_1_Middle_3991_instanceIds.txt', 'Block_5E1_Row_1_Middle_4023_instanceIds.txt', 'Block_5E1_Row_1_Middle_4055_instanceIds.txt', 'Block_5E1_Row_1_Middle_4086_instanceIds.txt', 'Block_5E1_Row_1_Middle_4093_instanceIds.txt']\n"
          ]
        }
      ]
    },
    {
      "cell_type": "code",
      "source": [
        "def replace_extension(filename, new_extension):\n",
        "    \"\"\"Replace the file extension with a new one.\"\"\"\n",
        "    base = os.path.splitext(filename)[0]  # Get the file name without extension\n",
        "    return f\"{base}{new_extension}\"\n",
        "\n",
        "# Assuming image files are .jpg and label files are .txt\n",
        "new_labels = [replace_extension(img, '.txt') for img in images]\n",
        "\n",
        "# Dictionary to map old label names to new ones\n",
        "label_map = dict(zip(labels, new_labels))\n",
        "\n",
        "# Now, rename the label files\n",
        "for old_label, new_label in label_map.items():\n",
        "    old_label_path = os.path.join(label_dir, old_label)\n",
        "    new_label_path = os.path.join(label_dir, new_label)\n",
        "    os.rename(old_label_path, new_label_path)\n",
        "\n",
        "print(\"Renaming complete.\")\n"
      ],
      "metadata": {
        "colab": {
          "base_uri": "https://localhost:8080/"
        },
        "id": "fHiJMpfga7ha",
        "outputId": "9f97a740-40a3-492b-b161-63f9c47c33c3"
      },
      "execution_count": null,
      "outputs": [
        {
          "output_type": "stream",
          "name": "stdout",
          "text": [
            "Renaming complete.\n"
          ]
        }
      ]
    },
    {
      "cell_type": "code",
      "source": [
        "updated_labels = os.listdir(label_dir)\n",
        "updated_labels.sort()\n",
        "print(\"Updated Labels:\", updated_labels)\n"
      ],
      "metadata": {
        "colab": {
          "base_uri": "https://localhost:8080/"
        },
        "id": "qXirs6bSa9JX",
        "outputId": "379cb2f5-c2da-4a2b-98c6-40db3ca8b707"
      },
      "execution_count": null,
      "outputs": [
        {
          "output_type": "stream",
          "name": "stdout",
          "text": [
            "Updated Labels: ['Block_5E1_Row_1_Middle_1871.txt', 'Block_5E1_Row_1_Middle_1911.txt', 'Block_5E1_Row_1_Middle_1919.txt', 'Block_5E1_Row_1_Middle_1943.txt', 'Block_5E1_Row_1_Middle_1959.txt', 'Block_5E1_Row_1_Middle_1975.txt', 'Block_5E1_Row_1_Middle_1983.txt', 'Block_5E1_Row_1_Middle_1991.txt', 'Block_5E1_Row_1_Middle_1999.txt', 'Block_5E1_Row_1_Middle_2023.txt', 'Block_5E1_Row_1_Middle_2039.txt', 'Block_5E1_Row_1_Middle_2055.txt', 'Block_5E1_Row_1_Middle_2087.txt', 'Block_5E1_Row_1_Middle_2095.txt', 'Block_5E1_Row_1_Middle_2103.txt', 'Block_5E1_Row_1_Middle_2127.txt', 'Block_5E1_Row_1_Middle_2135.txt', 'Block_5E1_Row_1_Middle_2151.txt', 'Block_5E1_Row_1_Middle_2183.txt', 'Block_5E1_Row_1_Middle_2191.txt', 'Block_5E1_Row_1_Middle_2199.txt', 'Block_5E1_Row_1_Middle_2223.txt', 'Block_5E1_Row_1_Middle_2231.txt', 'Block_5E1_Row_1_Middle_2247.txt', 'Block_5E1_Row_1_Middle_2271.txt', 'Block_5E1_Row_1_Middle_2287.txt', 'Block_5E1_Row_1_Middle_2295.txt', 'Block_5E1_Row_1_Middle_2319.txt', 'Block_5E1_Row_1_Middle_2335.txt', 'Block_5E1_Row_1_Middle_2343.txt', 'Block_5E1_Row_1_Middle_2367.txt', 'Block_5E1_Row_1_Middle_2492.txt', 'Block_5E1_Row_1_Middle_2506.txt', 'Block_5E1_Row_1_Middle_2513.txt', 'Block_5E1_Row_1_Middle_2520.txt', 'Block_5E1_Row_1_Middle_2534.txt', 'Block_5E1_Row_1_Middle_2541.txt', 'Block_5E1_Row_1_Middle_2548.txt', 'Block_5E1_Row_1_Middle_2555.txt', 'Block_5E1_Row_1_Middle_2569.txt', 'Block_5E1_Row_1_Middle_2576.txt', 'Block_5E1_Row_1_Middle_2611.txt', 'Block_5E1_Row_1_Middle_2618.txt', 'Block_5E1_Row_1_Middle_2625.txt', 'Block_5E1_Row_1_Middle_2632.txt', 'Block_5E1_Row_1_Middle_2639.txt', 'Block_5E1_Row_1_Middle_2758.txt', 'Block_5E1_Row_1_Middle_2765.txt', 'Block_5E1_Row_1_Middle_2772.txt', 'Block_5E1_Row_1_Middle_2800.txt', 'Block_5E1_Row_1_Middle_2807.txt', 'Block_5E1_Row_1_Middle_2814.txt', 'Block_5E1_Row_1_Middle_2821.txt', 'Block_5E1_Row_1_Middle_2856.txt', 'Block_5E1_Row_1_Middle_2870.txt', 'Block_5E1_Row_1_Middle_2877.txt', 'Block_5E1_Row_1_Middle_2884.txt', 'Block_5E1_Row_1_Middle_2898.txt', 'Block_5E1_Row_1_Middle_2905.txt', 'Block_5E1_Row_1_Middle_2926.txt', 'Block_5E1_Row_1_Middle_2933.txt', 'Block_5E1_Row_1_Middle_2940.txt', 'Block_5E1_Row_1_Middle_2954.txt', 'Block_5E1_Row_1_Middle_2982.txt', 'Block_5E1_Row_1_Middle_2989.txt', 'Block_5E1_Row_1_Middle_2996.txt', 'Block_5E1_Row_1_Middle_3045.txt', 'Block_5E1_Row_1_Middle_3066.txt', 'Block_5E1_Row_1_Middle_3087.txt', 'Block_5E1_Row_1_Middle_3143.txt', 'Block_5E1_Row_1_Middle_3150.txt', 'Block_5E1_Row_1_Middle_3157.txt', 'Block_5E1_Row_1_Middle_3220.txt', 'Block_5E1_Row_1_Middle_3227.txt', 'Block_5E1_Row_1_Middle_3234.txt', 'Block_5E1_Row_1_Middle_3255.txt', 'Block_5E1_Row_1_Middle_3269.txt', 'Block_5E1_Row_1_Middle_3283.txt', 'Block_5E1_Row_1_Middle_3304.txt', 'Block_5E1_Row_1_Middle_3311.txt', 'Block_5E1_Row_1_Middle_3318.txt', 'Block_5E1_Row_1_Middle_3346.txt', 'Block_5E1_Row_1_Middle_3353.txt', 'Block_5E1_Row_1_Middle_3374.txt', 'Block_5E1_Row_1_Middle_3381.txt', 'Block_5E1_Row_1_Middle_3815.txt', 'Block_5E1_Row_1_Middle_3823.txt', 'Block_5E1_Row_1_Middle_3855.txt', 'Block_5E1_Row_1_Middle_3879.txt', 'Block_5E1_Row_1_Middle_3887.txt', 'Block_5E1_Row_1_Middle_3919.txt', 'Block_5E1_Row_1_Middle_3927.txt', 'Block_5E1_Row_1_Middle_3935.txt', 'Block_5E1_Row_1_Middle_3951.txt', 'Block_5E1_Row_1_Middle_3967.txt', 'Block_5E1_Row_1_Middle_3991.txt', 'Block_5E1_Row_1_Middle_4023.txt', 'Block_5E1_Row_1_Middle_4055.txt', 'Block_5E1_Row_1_Middle_4086.txt', 'Block_5E1_Row_1_Middle_4093.txt']\n"
          ]
        }
      ]
    },
    {
      "cell_type": "code",
      "source": [],
      "metadata": {
        "id": "lpbTqEfhbC1J"
      },
      "execution_count": null,
      "outputs": []
    }
  ]
}